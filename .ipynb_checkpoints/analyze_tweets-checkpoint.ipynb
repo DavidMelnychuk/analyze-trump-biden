{
 "cells": [
  {
   "cell_type": "markdown",
   "metadata": {},
   "source": [
    "# Analyzing Joe Biden's and Donald Trump's tweets during the coronavirus pandemic."
   ]
  },
  {
   "cell_type": "markdown",
   "metadata": {},
   "source": [
    "# Table of Contents\n",
    "\n",
    "* [1. Importing Packages](#importing_packages)\n",
    "* [2. Loading the Data](#load_data)\n",
    "* [3. Data Cleaning and Preparation](#data_clean)\n",
    "* [4. Exploring the Data: Aggregate and Frequency statistics](#explore_data)\n",
    "* [5. Sentiment Analysis](#sentiment_analysis)\n",
    "* [6. Topic Modeling](#topic_modeling)\n",
    "* [7. Classification](#classification)"
   ]
  },
  {
   "cell_type": "markdown",
   "metadata": {},
   "source": [
    "# 1. Importing packages <a class=\"anchor\" id=\"importing_packages\">"
   ]
  },
  {
   "cell_type": "code",
   "execution_count": 1,
   "metadata": {},
   "outputs": [
    {
     "name": "stderr",
     "output_type": "stream",
     "text": [
      "[nltk_data] Downloading package stopwords to\n",
      "[nltk_data]     C:\\Users\\david\\AppData\\Roaming\\nltk_data...\n",
      "[nltk_data]   Package stopwords is already up-to-date!\n",
      "[nltk_data] Downloading package punkt to\n",
      "[nltk_data]     C:\\Users\\david\\AppData\\Roaming\\nltk_data...\n",
      "[nltk_data]   Package punkt is already up-to-date!\n",
      "[nltk_data] Downloading package averaged_perceptron_tagger to\n",
      "[nltk_data]     C:\\Users\\david\\AppData\\Roaming\\nltk_data...\n",
      "[nltk_data]   Package averaged_perceptron_tagger is already up-to-\n",
      "[nltk_data]       date!\n",
      "[nltk_data] Downloading package wordnet to\n",
      "[nltk_data]     C:\\Users\\david\\AppData\\Roaming\\nltk_data...\n",
      "[nltk_data]   Package wordnet is already up-to-date!\n"
     ]
    },
    {
     "data": {
      "text/plain": [
       "True"
      ]
     },
     "execution_count": 1,
     "metadata": {},
     "output_type": "execute_result"
    }
   ],
   "source": [
    "import pandas as pd\n",
    "import numpy as np\n",
    "import re\n",
    "import matplotlib.pyplot as plt\n",
    "import collections\n",
    "import nltk\n",
    "from nltk.corpus import stopwords\n",
    "from nltk.stem import WordNetLemmatizer, SnowballStemmer\n",
    "from nltk.stem.porter import *\n",
    "from nltk import everygrams\n",
    "from nltk import ngrams\n",
    "from nltk import FreqDist\n",
    "from nltk.tokenize.treebank import TreebankWordDetokenizer\n",
    "from textblob import TextBlob\n",
    "from wordcloud import WordCloud\n",
    "import gensim\n",
    "from gensim.utils import simple_preprocess\n",
    "from gensim.parsing.preprocessing import STOPWORDS\n",
    "from gensim import corpora, models\n",
    "import pyLDAvis\n",
    "import pyLDAvis.gensim\n",
    "from sklearn.model_selection import train_test_split\n",
    "from sklearn.feature_extraction.text import TfidfVectorizer\n",
    "from sklearn import model_selection, naive_bayes, svm, metrics\n",
    "from sklearn.metrics import classification_report, confusion_matrix, accuracy_score\n",
    "from sklearn.linear_model import LogisticRegression\n",
    "from sklearn.neural_network import MLPClassifier\n",
    "from sklearn.naive_bayes import GaussianNB\n",
    "from sklearn.naive_bayes import MultinomialNB\n",
    "from sklearn import svm\n",
    "from sklearn.linear_model import SGDClassifier\n",
    "from sklearn import tree\n",
    "from sklearn.ensemble import AdaBoostClassifier\n",
    "from sklearn.model_selection import cross_val_score\n",
    "from sklearn.ensemble import GradientBoostingClassifier\n",
    "from sklearn.ensemble import VotingClassifier\n",
    "from sklearn.ensemble import RandomForestClassifier\n",
    "import seaborn as sns\n",
    "import warnings\n",
    "warnings.filterwarnings(\"ignore\", category=DeprecationWarning) \n",
    "pd.options.mode.chained_assignment = None\n",
    "nltk.download('stopwords')\n",
    "nltk.download('punkt')\n",
    "nltk.download('averaged_perceptron_tagger')\n",
    "nltk.download('wordnet')"
   ]
  },
  {
   "cell_type": "markdown",
   "metadata": {},
   "source": [
    "# 2. Load Data<a class=\"anchor\" id=\"load_data\">"
   ]
  },
  {
   "cell_type": "code",
   "execution_count": 2,
   "metadata": {},
   "outputs": [],
   "source": [
    "trump_df = pd.read_csv(\"trump.csv\")\n",
    "biden_df = pd.read_csv(\"biden.csv\")"
   ]
  },
  {
   "cell_type": "code",
   "execution_count": 3,
   "metadata": {},
   "outputs": [
    {
     "data": {
      "text/html": [
       "<div>\n",
       "<style scoped>\n",
       "    .dataframe tbody tr th:only-of-type {\n",
       "        vertical-align: middle;\n",
       "    }\n",
       "\n",
       "    .dataframe tbody tr th {\n",
       "        vertical-align: top;\n",
       "    }\n",
       "\n",
       "    .dataframe thead th {\n",
       "        text-align: right;\n",
       "    }\n",
       "</style>\n",
       "<table border=\"1\" class=\"dataframe\">\n",
       "  <thead>\n",
       "    <tr style=\"text-align: right;\">\n",
       "      <th></th>\n",
       "      <th>text</th>\n",
       "      <th>created_at</th>\n",
       "      <th>retweet_count</th>\n",
       "      <th>favorite_count</th>\n",
       "      <th>is_retweet</th>\n",
       "      <th>id_str</th>\n",
       "    </tr>\n",
       "  </thead>\n",
       "  <tbody>\n",
       "    <tr>\n",
       "      <th>0</th>\n",
       "      <td>I am deeply saddened by the loss of my friend ...</td>\n",
       "      <td>07-22-2020 22:46:27</td>\n",
       "      <td>24836</td>\n",
       "      <td>126563</td>\n",
       "      <td>False</td>\n",
       "      <td>1286070129965649922</td>\n",
       "    </tr>\n",
       "    <tr>\n",
       "      <th>1</th>\n",
       "      <td>We MUST protect our National Parks for our chi...</td>\n",
       "      <td>07-22-2020 19:32:42</td>\n",
       "      <td>31289</td>\n",
       "      <td>155074</td>\n",
       "      <td>False</td>\n",
       "      <td>1286021372070830084</td>\n",
       "    </tr>\n",
       "    <tr>\n",
       "      <th>2</th>\n",
       "      <td>Mail-In Voting unless changed by the courts wi...</td>\n",
       "      <td>07-21-2020 11:41:10</td>\n",
       "      <td>45537</td>\n",
       "      <td>172449</td>\n",
       "      <td>False</td>\n",
       "      <td>1285540318503407622</td>\n",
       "    </tr>\n",
       "    <tr>\n",
       "      <th>3</th>\n",
       "      <td>Strong Stock Market Numbers. You want to see t...</td>\n",
       "      <td>07-21-2020 11:33:05</td>\n",
       "      <td>30439</td>\n",
       "      <td>147781</td>\n",
       "      <td>False</td>\n",
       "      <td>1285538283892748288</td>\n",
       "    </tr>\n",
       "    <tr>\n",
       "      <th>4</th>\n",
       "      <td>“In my view General Flynn should never have be...</td>\n",
       "      <td>07-21-2020 10:48:12</td>\n",
       "      <td>21231</td>\n",
       "      <td>90140</td>\n",
       "      <td>False</td>\n",
       "      <td>1285526989667958784</td>\n",
       "    </tr>\n",
       "    <tr>\n",
       "      <th>...</th>\n",
       "      <td>...</td>\n",
       "      <td>...</td>\n",
       "      <td>...</td>\n",
       "      <td>...</td>\n",
       "      <td>...</td>\n",
       "      <td>...</td>\n",
       "    </tr>\n",
       "    <tr>\n",
       "      <th>5181</th>\n",
       "      <td>I will be signing our very large and comprehen...</td>\n",
       "      <td>12-31-2019 14:16:40</td>\n",
       "      <td>22730</td>\n",
       "      <td>95208</td>\n",
       "      <td>False</td>\n",
       "      <td>1212014713808273410</td>\n",
       "    </tr>\n",
       "    <tr>\n",
       "      <th>5182</th>\n",
       "      <td>President Putin of Russia called to thank me a...</td>\n",
       "      <td>12-31-2019 14:06:09</td>\n",
       "      <td>29025</td>\n",
       "      <td>141918</td>\n",
       "      <td>False</td>\n",
       "      <td>1212012065440894976</td>\n",
       "    </tr>\n",
       "    <tr>\n",
       "      <th>5183</th>\n",
       "      <td>Armed congregants quickly stopped a crazed chu...</td>\n",
       "      <td>12-31-2019 13:53:10</td>\n",
       "      <td>25719</td>\n",
       "      <td>114701</td>\n",
       "      <td>False</td>\n",
       "      <td>1212008798849814528</td>\n",
       "    </tr>\n",
       "    <tr>\n",
       "      <th>5184</th>\n",
       "      <td>Iran killed an American contractor wounding ma...</td>\n",
       "      <td>12-31-2019 12:02:47</td>\n",
       "      <td>37287</td>\n",
       "      <td>150318</td>\n",
       "      <td>False</td>\n",
       "      <td>1211981022084128768</td>\n",
       "    </tr>\n",
       "    <tr>\n",
       "      <th>5185</th>\n",
       "      <td>The Democrats will do anything to avoid a tria...</td>\n",
       "      <td>12-31-2019 11:16:26</td>\n",
       "      <td>25707</td>\n",
       "      <td>101260</td>\n",
       "      <td>False</td>\n",
       "      <td>1211969354499284992</td>\n",
       "    </tr>\n",
       "  </tbody>\n",
       "</table>\n",
       "<p>5186 rows × 6 columns</p>\n",
       "</div>"
      ],
      "text/plain": [
       "                                                   text           created_at  \\\n",
       "0     I am deeply saddened by the loss of my friend ...  07-22-2020 22:46:27   \n",
       "1     We MUST protect our National Parks for our chi...  07-22-2020 19:32:42   \n",
       "2     Mail-In Voting unless changed by the courts wi...  07-21-2020 11:41:10   \n",
       "3     Strong Stock Market Numbers. You want to see t...  07-21-2020 11:33:05   \n",
       "4     “In my view General Flynn should never have be...  07-21-2020 10:48:12   \n",
       "...                                                 ...                  ...   \n",
       "5181  I will be signing our very large and comprehen...  12-31-2019 14:16:40   \n",
       "5182  President Putin of Russia called to thank me a...  12-31-2019 14:06:09   \n",
       "5183  Armed congregants quickly stopped a crazed chu...  12-31-2019 13:53:10   \n",
       "5184  Iran killed an American contractor wounding ma...  12-31-2019 12:02:47   \n",
       "5185  The Democrats will do anything to avoid a tria...  12-31-2019 11:16:26   \n",
       "\n",
       "      retweet_count  favorite_count  is_retweet               id_str  \n",
       "0             24836          126563       False  1286070129965649922  \n",
       "1             31289          155074       False  1286021372070830084  \n",
       "2             45537          172449       False  1285540318503407622  \n",
       "3             30439          147781       False  1285538283892748288  \n",
       "4             21231           90140       False  1285526989667958784  \n",
       "...             ...             ...         ...                  ...  \n",
       "5181          22730           95208       False  1212014713808273410  \n",
       "5182          29025          141918       False  1212012065440894976  \n",
       "5183          25719          114701       False  1212008798849814528  \n",
       "5184          37287          150318       False  1211981022084128768  \n",
       "5185          25707          101260       False  1211969354499284992  \n",
       "\n",
       "[5186 rows x 6 columns]"
      ]
     },
     "execution_count": 3,
     "metadata": {},
     "output_type": "execute_result"
    }
   ],
   "source": [
    "trump_df"
   ]
  },
  {
   "cell_type": "code",
   "execution_count": 4,
   "metadata": {},
   "outputs": [
    {
     "data": {
      "text/html": [
       "<div>\n",
       "<style scoped>\n",
       "    .dataframe tbody tr th:only-of-type {\n",
       "        vertical-align: middle;\n",
       "    }\n",
       "\n",
       "    .dataframe tbody tr th {\n",
       "        vertical-align: top;\n",
       "    }\n",
       "\n",
       "    .dataframe thead th {\n",
       "        text-align: right;\n",
       "    }\n",
       "</style>\n",
       "<table border=\"1\" class=\"dataframe\">\n",
       "  <thead>\n",
       "    <tr style=\"text-align: right;\">\n",
       "      <th></th>\n",
       "      <th>text</th>\n",
       "      <th>created_at</th>\n",
       "      <th>retweet_count</th>\n",
       "      <th>favorite_count</th>\n",
       "      <th>is_retweet</th>\n",
       "      <th>id_str</th>\n",
       "    </tr>\n",
       "  </thead>\n",
       "  <tbody>\n",
       "    <tr>\n",
       "      <th>0</th>\n",
       "      <td>Donald Trump’s own staff admits that he fails ...</td>\n",
       "      <td>2020-07-24 00:30:00</td>\n",
       "      <td>4867</td>\n",
       "      <td>19073</td>\n",
       "      <td>False</td>\n",
       "      <td>1286458575150370817</td>\n",
       "    </tr>\n",
       "    <tr>\n",
       "      <th>1</th>\n",
       "      <td>We need a president who listens to someone oth...</td>\n",
       "      <td>2020-07-23 23:15:00</td>\n",
       "      <td>15827</td>\n",
       "      <td>110536</td>\n",
       "      <td>False</td>\n",
       "      <td>1286439700958453763</td>\n",
       "    </tr>\n",
       "    <tr>\n",
       "      <th>2</th>\n",
       "      <td>This was preventable. https://t.co/NWaHXW8U4K</td>\n",
       "      <td>2020-07-23 22:10:00</td>\n",
       "      <td>12336</td>\n",
       "      <td>56418</td>\n",
       "      <td>False</td>\n",
       "      <td>1286423343135182848</td>\n",
       "    </tr>\n",
       "    <tr>\n",
       "      <th>3</th>\n",
       "      <td>Out of every trial and tribulation, we've alwa...</td>\n",
       "      <td>2020-07-23 21:40:00</td>\n",
       "      <td>4158</td>\n",
       "      <td>12282</td>\n",
       "      <td>False</td>\n",
       "      <td>1286415793245347845</td>\n",
       "    </tr>\n",
       "    <tr>\n",
       "      <th>4</th>\n",
       "      <td>Hey @Phillies, here’s to hoping we both win bi...</td>\n",
       "      <td>2020-07-23 20:05:00</td>\n",
       "      <td>4914</td>\n",
       "      <td>35253</td>\n",
       "      <td>False</td>\n",
       "      <td>1286391885993373696</td>\n",
       "    </tr>\n",
       "    <tr>\n",
       "      <th>...</th>\n",
       "      <td>...</td>\n",
       "      <td>...</td>\n",
       "      <td>...</td>\n",
       "      <td>...</td>\n",
       "      <td>...</td>\n",
       "      <td>...</td>\n",
       "    </tr>\n",
       "    <tr>\n",
       "      <th>3087</th>\n",
       "      <td>President Trump’s ICE raids are inhumane. His ...</td>\n",
       "      <td>2019-07-13 20:55:00</td>\n",
       "      <td>3886</td>\n",
       "      <td>19173</td>\n",
       "      <td>False</td>\n",
       "      <td>1150146631569989633</td>\n",
       "    </tr>\n",
       "    <tr>\n",
       "      <th>3088</th>\n",
       "      <td>I’m heartbroken to hear of the passing of Héct...</td>\n",
       "      <td>2019-07-13 19:55:00</td>\n",
       "      <td>200</td>\n",
       "      <td>1299</td>\n",
       "      <td>False</td>\n",
       "      <td>1150131532092383232</td>\n",
       "    </tr>\n",
       "    <tr>\n",
       "      <th>3089</th>\n",
       "      <td>Had the opportunity to spend some time with th...</td>\n",
       "      <td>2019-07-13 19:19:12</td>\n",
       "      <td>167</td>\n",
       "      <td>885</td>\n",
       "      <td>False</td>\n",
       "      <td>1150122523075457025</td>\n",
       "    </tr>\n",
       "    <tr>\n",
       "      <th>3090</th>\n",
       "      <td>As individuals, and as a nation, we have to pr...</td>\n",
       "      <td>2019-07-13 17:13:00</td>\n",
       "      <td>520</td>\n",
       "      <td>2076</td>\n",
       "      <td>False</td>\n",
       "      <td>1150090763214004224</td>\n",
       "    </tr>\n",
       "    <tr>\n",
       "      <th>3091</th>\n",
       "      <td>It was a pleasure spending time with the inspi...</td>\n",
       "      <td>2019-07-13 02:25:45</td>\n",
       "      <td>168</td>\n",
       "      <td>863</td>\n",
       "      <td>False</td>\n",
       "      <td>1149867479805628418</td>\n",
       "    </tr>\n",
       "  </tbody>\n",
       "</table>\n",
       "<p>3092 rows × 6 columns</p>\n",
       "</div>"
      ],
      "text/plain": [
       "                                                   text           created_at  \\\n",
       "0     Donald Trump’s own staff admits that he fails ...  2020-07-24 00:30:00   \n",
       "1     We need a president who listens to someone oth...  2020-07-23 23:15:00   \n",
       "2         This was preventable. https://t.co/NWaHXW8U4K  2020-07-23 22:10:00   \n",
       "3     Out of every trial and tribulation, we've alwa...  2020-07-23 21:40:00   \n",
       "4     Hey @Phillies, here’s to hoping we both win bi...  2020-07-23 20:05:00   \n",
       "...                                                 ...                  ...   \n",
       "3087  President Trump’s ICE raids are inhumane. His ...  2019-07-13 20:55:00   \n",
       "3088  I’m heartbroken to hear of the passing of Héct...  2019-07-13 19:55:00   \n",
       "3089  Had the opportunity to spend some time with th...  2019-07-13 19:19:12   \n",
       "3090  As individuals, and as a nation, we have to pr...  2019-07-13 17:13:00   \n",
       "3091  It was a pleasure spending time with the inspi...  2019-07-13 02:25:45   \n",
       "\n",
       "      retweet_count  favorite_count  is_retweet               id_str  \n",
       "0              4867           19073       False  1286458575150370817  \n",
       "1             15827          110536       False  1286439700958453763  \n",
       "2             12336           56418       False  1286423343135182848  \n",
       "3              4158           12282       False  1286415793245347845  \n",
       "4              4914           35253       False  1286391885993373696  \n",
       "...             ...             ...         ...                  ...  \n",
       "3087           3886           19173       False  1150146631569989633  \n",
       "3088            200            1299       False  1150131532092383232  \n",
       "3089            167             885       False  1150122523075457025  \n",
       "3090            520            2076       False  1150090763214004224  \n",
       "3091            168             863       False  1149867479805628418  \n",
       "\n",
       "[3092 rows x 6 columns]"
      ]
     },
     "execution_count": 4,
     "metadata": {},
     "output_type": "execute_result"
    }
   ],
   "source": [
    "biden_df"
   ]
  },
  {
   "cell_type": "markdown",
   "metadata": {},
   "source": [
    "# 3. Data Cleaning and Preparation<a class=\"anchor\" id=\"data_clean\">"
   ]
  },
  {
   "cell_type": "markdown",
   "metadata": {},
   "source": [
    "### Functions for text cleaning"
   ]
  },
  {
   "cell_type": "code",
   "execution_count": 5,
   "metadata": {},
   "outputs": [],
   "source": [
    "global stop_words\n",
    "stop_words = stopwords.words('english')\n",
    "custom_stopwords = ['amp', 'youre', 'dont','wont', 'got']\n",
    "stop_words.extend(custom_stopwords)\n",
    "\n",
    "def detect_language(X):\n",
    "    from langdetect import detect\n",
    "    try:\n",
    "        lang = detect(X)\n",
    "        return(lang)\n",
    "    except:\n",
    "        return(\"other\")\n",
    "    \n",
    "def remove_url_punctuation(X):\n",
    "    \"\"\" Replace URLS, punctuations, hashtags found in a text string with nothing.\n",
    "    Change to lowercase\"\"\"\n",
    "    # Try with just simple /w+ regex.       \n",
    "    url_pattern = re.compile(r'https:?://\\S+|www\\.\\S+')\n",
    "    replace_url = url_pattern.sub(r'', str(X))\n",
    "    punct_pattern = re.compile(r'[^\\w\\s]')\n",
    "    no_punct = punct_pattern.sub(r'', replace_url).lower()\n",
    "    no_punct = no_punct.replace('\\n', ' ')\n",
    "    no_punct = no_punct.replace('\\t', ' ')\n",
    "    return no_punct\n",
    "\n",
    "def split_words(X):\n",
    "    \"\"\"\"\" Split tweets into words for NLP\"\"\"\n",
    "    split_word_list = X.split(\" \")\n",
    "    return split_word_list\n",
    "\n",
    "def remove_stopwords(X):\n",
    "    filtered_words = []\n",
    "    global stop_words\n",
    "    for word in X:\n",
    "        if word not in stop_words and len(word) > 2 and word != 'nan':\n",
    "            filtered_words.append(word)\n",
    "    return filtered_words\n",
    "\n",
    "# All the above in one function\n",
    "def basic_processing(text):\n",
    "    clean_text = remove_url_punctuation(text)\n",
    "    tokens = split_words(clean_text)\n",
    "    tokens = remove_stopwords(tokens) \n",
    "    return tokens"
   ]
  },
  {
   "cell_type": "markdown",
   "metadata": {},
   "source": [
    "### Get Biden tweets since the emergence of [COVID19](https://www.who.int/docs/default-source/coronaviruse/situation-reports/20200121-sitrep-1-2019-ncov.pdf). Trump dataset already filtered by start date. "
   ]
  },
  {
   "cell_type": "code",
   "execution_count": 6,
   "metadata": {},
   "outputs": [
    {
     "data": {
      "text/html": [
       "<div>\n",
       "<style scoped>\n",
       "    .dataframe tbody tr th:only-of-type {\n",
       "        vertical-align: middle;\n",
       "    }\n",
       "\n",
       "    .dataframe tbody tr th {\n",
       "        vertical-align: top;\n",
       "    }\n",
       "\n",
       "    .dataframe thead th {\n",
       "        text-align: right;\n",
       "    }\n",
       "</style>\n",
       "<table border=\"1\" class=\"dataframe\">\n",
       "  <thead>\n",
       "    <tr style=\"text-align: right;\">\n",
       "      <th></th>\n",
       "      <th>text</th>\n",
       "      <th>created_at</th>\n",
       "      <th>retweet_count</th>\n",
       "      <th>favorite_count</th>\n",
       "      <th>is_retweet</th>\n",
       "      <th>id_str</th>\n",
       "    </tr>\n",
       "  </thead>\n",
       "  <tbody>\n",
       "    <tr>\n",
       "      <th>0</th>\n",
       "      <td>Donald Trump’s own staff admits that he fails ...</td>\n",
       "      <td>2020-07-24 00:30:00</td>\n",
       "      <td>4867</td>\n",
       "      <td>19073</td>\n",
       "      <td>False</td>\n",
       "      <td>1286458575150370817</td>\n",
       "    </tr>\n",
       "    <tr>\n",
       "      <th>1</th>\n",
       "      <td>We need a president who listens to someone oth...</td>\n",
       "      <td>2020-07-23 23:15:00</td>\n",
       "      <td>15827</td>\n",
       "      <td>110536</td>\n",
       "      <td>False</td>\n",
       "      <td>1286439700958453763</td>\n",
       "    </tr>\n",
       "    <tr>\n",
       "      <th>2</th>\n",
       "      <td>This was preventable. https://t.co/NWaHXW8U4K</td>\n",
       "      <td>2020-07-23 22:10:00</td>\n",
       "      <td>12336</td>\n",
       "      <td>56418</td>\n",
       "      <td>False</td>\n",
       "      <td>1286423343135182848</td>\n",
       "    </tr>\n",
       "    <tr>\n",
       "      <th>3</th>\n",
       "      <td>Out of every trial and tribulation, we've alwa...</td>\n",
       "      <td>2020-07-23 21:40:00</td>\n",
       "      <td>4158</td>\n",
       "      <td>12282</td>\n",
       "      <td>False</td>\n",
       "      <td>1286415793245347845</td>\n",
       "    </tr>\n",
       "    <tr>\n",
       "      <th>4</th>\n",
       "      <td>Hey @Phillies, here’s to hoping we both win bi...</td>\n",
       "      <td>2020-07-23 20:05:00</td>\n",
       "      <td>4914</td>\n",
       "      <td>35253</td>\n",
       "      <td>False</td>\n",
       "      <td>1286391885993373696</td>\n",
       "    </tr>\n",
       "    <tr>\n",
       "      <th>...</th>\n",
       "      <td>...</td>\n",
       "      <td>...</td>\n",
       "      <td>...</td>\n",
       "      <td>...</td>\n",
       "      <td>...</td>\n",
       "      <td>...</td>\n",
       "    </tr>\n",
       "    <tr>\n",
       "      <th>1706</th>\n",
       "      <td>As we move into the New Year, there's one thin...</td>\n",
       "      <td>2019-12-31 23:30:00</td>\n",
       "      <td>7949</td>\n",
       "      <td>66898</td>\n",
       "      <td>False</td>\n",
       "      <td>1212153964206198789</td>\n",
       "    </tr>\n",
       "    <tr>\n",
       "      <th>1707</th>\n",
       "      <td>2019 was a year of record violence — it will b...</td>\n",
       "      <td>2019-12-31 22:02:37</td>\n",
       "      <td>986</td>\n",
       "      <td>3552</td>\n",
       "      <td>False</td>\n",
       "      <td>1212131972295929856</td>\n",
       "    </tr>\n",
       "    <tr>\n",
       "      <th>1708</th>\n",
       "      <td>Next year could give us one of two things: a n...</td>\n",
       "      <td>2019-12-31 20:45:00</td>\n",
       "      <td>470</td>\n",
       "      <td>1779</td>\n",
       "      <td>False</td>\n",
       "      <td>1212112439623458826</td>\n",
       "    </tr>\n",
       "    <tr>\n",
       "      <th>1709</th>\n",
       "      <td>It will take years to repair the damage Betsy ...</td>\n",
       "      <td>2019-12-31 17:15:00</td>\n",
       "      <td>6375</td>\n",
       "      <td>24950</td>\n",
       "      <td>False</td>\n",
       "      <td>1212059591569297408</td>\n",
       "    </tr>\n",
       "    <tr>\n",
       "      <th>1710</th>\n",
       "      <td>We all said that Donald Trump’s trade war woul...</td>\n",
       "      <td>2019-12-31 00:37:16</td>\n",
       "      <td>6068</td>\n",
       "      <td>22375</td>\n",
       "      <td>False</td>\n",
       "      <td>1211808506522849280</td>\n",
       "    </tr>\n",
       "  </tbody>\n",
       "</table>\n",
       "<p>1711 rows × 6 columns</p>\n",
       "</div>"
      ],
      "text/plain": [
       "                                                   text          created_at  \\\n",
       "0     Donald Trump’s own staff admits that he fails ... 2020-07-24 00:30:00   \n",
       "1     We need a president who listens to someone oth... 2020-07-23 23:15:00   \n",
       "2         This was preventable. https://t.co/NWaHXW8U4K 2020-07-23 22:10:00   \n",
       "3     Out of every trial and tribulation, we've alwa... 2020-07-23 21:40:00   \n",
       "4     Hey @Phillies, here’s to hoping we both win bi... 2020-07-23 20:05:00   \n",
       "...                                                 ...                 ...   \n",
       "1706  As we move into the New Year, there's one thin... 2019-12-31 23:30:00   \n",
       "1707  2019 was a year of record violence — it will b... 2019-12-31 22:02:37   \n",
       "1708  Next year could give us one of two things: a n... 2019-12-31 20:45:00   \n",
       "1709  It will take years to repair the damage Betsy ... 2019-12-31 17:15:00   \n",
       "1710  We all said that Donald Trump’s trade war woul... 2019-12-31 00:37:16   \n",
       "\n",
       "      retweet_count  favorite_count  is_retweet               id_str  \n",
       "0              4867           19073       False  1286458575150370817  \n",
       "1             15827          110536       False  1286439700958453763  \n",
       "2             12336           56418       False  1286423343135182848  \n",
       "3              4158           12282       False  1286415793245347845  \n",
       "4              4914           35253       False  1286391885993373696  \n",
       "...             ...             ...         ...                  ...  \n",
       "1706           7949           66898       False  1212153964206198789  \n",
       "1707            986            3552       False  1212131972295929856  \n",
       "1708            470            1779       False  1212112439623458826  \n",
       "1709           6375           24950       False  1212059591569297408  \n",
       "1710           6068           22375       False  1211808506522849280  \n",
       "\n",
       "[1711 rows x 6 columns]"
      ]
     },
     "execution_count": 6,
     "metadata": {},
     "output_type": "execute_result"
    }
   ],
   "source": [
    "START_DATE = pd.to_datetime('31-12-2019')\n",
    "biden_df['created_at'] = pd.to_datetime(biden_df['created_at'])\n",
    "trump_df['created_at'] = pd.to_datetime(trump_df['created_at'])\n",
    "biden_df = biden_df.loc[biden_df['created_at'] >= START_DATE]\n",
    "biden_df"
   ]
  },
  {
   "cell_type": "markdown",
   "metadata": {},
   "source": [
    "### Retain English tweets"
   ]
  },
  {
   "cell_type": "code",
   "execution_count": 7,
   "metadata": {},
   "outputs": [],
   "source": [
    "trump_df['en'] = trump_df['text'].apply(detect_language)\n",
    "biden_df['en'] = biden_df['text'].apply(detect_language)\n",
    "\n",
    "trump_df = trump_df[trump_df['en'] == 'en']\n",
    "biden_df = biden_df[biden_df['en'] == 'en']"
   ]
  },
  {
   "cell_type": "markdown",
   "metadata": {},
   "source": [
    "### Remove punctuation, special characters, and hashtags in tweets"
   ]
  },
  {
   "cell_type": "code",
   "execution_count": 8,
   "metadata": {},
   "outputs": [
    {
     "name": "stdout",
     "output_type": "stream",
     "text": [
      "0    I am deeply saddened by the loss of my friend ...\n",
      "1    We MUST protect our National Parks for our chi...\n",
      "2    Mail-In Voting unless changed by the courts wi...\n",
      "3    Strong Stock Market Numbers. You want to see t...\n",
      "4    “In my view General Flynn should never have be...\n",
      "Name: text, dtype: object\n",
      "-------------------------------------\n",
      "0    i am deeply saddened by the loss of my friend ...\n",
      "1    we must protect our national parks for our chi...\n",
      "2    mailin voting unless changed by the courts wil...\n",
      "3    strong stock market numbers you want to see th...\n",
      "4    in my view general flynn should never have bee...\n",
      "Name: clean_text, dtype: object\n"
     ]
    }
   ],
   "source": [
    "trump_df['clean_text'] = trump_df['text'].apply(remove_url_punctuation)\n",
    "biden_df['clean_text'] = biden_df['text'].apply(remove_url_punctuation)\n",
    "print(trump_df['text'].head())\n",
    "print('-------------------------------------')\n",
    "print(trump_df['clean_text'].head())"
   ]
  },
  {
   "cell_type": "markdown",
   "metadata": {},
   "source": [
    "### Tokenize Tweets"
   ]
  },
  {
   "cell_type": "code",
   "execution_count": 9,
   "metadata": {},
   "outputs": [
    {
     "name": "stdout",
     "output_type": "stream",
     "text": [
      "0    i am deeply saddened by the loss of my friend ...\n",
      "1    we must protect our national parks for our chi...\n",
      "2    mailin voting unless changed by the courts wil...\n",
      "3    strong stock market numbers you want to see th...\n",
      "4    in my view general flynn should never have bee...\n",
      "Name: clean_text, dtype: object\n",
      "-------------------------------------\n",
      "0    [i, am, deeply, saddened, by, the, loss, of, m...\n",
      "1    [we, must, protect, our, national, parks, for,...\n",
      "2    [mailin, voting, unless, changed, by, the, cou...\n",
      "3    [strong, stock, market, numbers, you, want, to...\n",
      "4    [in, my, view, general, flynn, should, never, ...\n",
      "Name: tokens, dtype: object\n"
     ]
    }
   ],
   "source": [
    "trump_df['tokens'] = trump_df['clean_text'].apply(split_words)\n",
    "biden_df['tokens'] = biden_df['clean_text'].apply(split_words)\n",
    "print(trump_df['clean_text'].head())\n",
    "print('-------------------------------------')\n",
    "print(trump_df['tokens'].head())"
   ]
  },
  {
   "cell_type": "markdown",
   "metadata": {},
   "source": [
    "### Remove Stop Words with NLTK"
   ]
  },
  {
   "cell_type": "code",
   "execution_count": 10,
   "metadata": {},
   "outputs": [
    {
     "name": "stdout",
     "output_type": "stream",
     "text": [
      "0    [deeply, saddened, loss, friend, charles, ever...\n",
      "1    [must, protect, national, parks, children, gra...\n",
      "2    [mailin, voting, unless, changed, courts, lead...\n",
      "3    [strong, stock, market, numbers, want, see, di...\n",
      "4    [view, general, flynn, never, prosecuted, firs...\n",
      "Name: tokens, dtype: object\n"
     ]
    }
   ],
   "source": [
    "trump_df['tokens'] = trump_df['tokens'].apply(remove_stopwords)\n",
    "biden_df['tokens'] = biden_df['tokens'].apply(remove_stopwords)\n",
    "print(trump_df['tokens'].head())"
   ]
  },
  {
   "cell_type": "markdown",
   "metadata": {},
   "source": [
    "# 4. Exploring the Data: Aggregate and Frequency Statistics<a class=\"anchor\" id=\"explore_data\">"
   ]
  },
  {
   "cell_type": "code",
   "execution_count": 11,
   "metadata": {},
   "outputs": [
    {
     "data": {
      "text/html": [
       "<div>\n",
       "<style scoped>\n",
       "    .dataframe tbody tr th:only-of-type {\n",
       "        vertical-align: middle;\n",
       "    }\n",
       "\n",
       "    .dataframe tbody tr th {\n",
       "        vertical-align: top;\n",
       "    }\n",
       "\n",
       "    .dataframe thead th {\n",
       "        text-align: right;\n",
       "    }\n",
       "</style>\n",
       "<table border=\"1\" class=\"dataframe\">\n",
       "  <thead>\n",
       "    <tr style=\"text-align: right;\">\n",
       "      <th></th>\n",
       "      <th>retweet_count</th>\n",
       "      <th>favorite_count</th>\n",
       "      <th>id_str</th>\n",
       "    </tr>\n",
       "  </thead>\n",
       "  <tbody>\n",
       "    <tr>\n",
       "      <th>count</th>\n",
       "      <td>4615.000000</td>\n",
       "      <td>4615.000000</td>\n",
       "      <td>4.615000e+03</td>\n",
       "    </tr>\n",
       "    <tr>\n",
       "      <th>mean</th>\n",
       "      <td>17955.441170</td>\n",
       "      <td>57645.367714</td>\n",
       "      <td>1.243055e+18</td>\n",
       "    </tr>\n",
       "    <tr>\n",
       "      <th>std</th>\n",
       "      <td>15411.695913</td>\n",
       "      <td>80936.116430</td>\n",
       "      <td>1.897700e+16</td>\n",
       "    </tr>\n",
       "    <tr>\n",
       "      <th>min</th>\n",
       "      <td>0.000000</td>\n",
       "      <td>0.000000</td>\n",
       "      <td>1.211969e+18</td>\n",
       "    </tr>\n",
       "    <tr>\n",
       "      <th>25%</th>\n",
       "      <td>7740.500000</td>\n",
       "      <td>0.000000</td>\n",
       "      <td>1.226120e+18</td>\n",
       "    </tr>\n",
       "    <tr>\n",
       "      <th>50%</th>\n",
       "      <td>13357.000000</td>\n",
       "      <td>28526.000000</td>\n",
       "      <td>1.241662e+18</td>\n",
       "    </tr>\n",
       "    <tr>\n",
       "      <th>75%</th>\n",
       "      <td>23630.500000</td>\n",
       "      <td>93904.500000</td>\n",
       "      <td>1.257781e+18</td>\n",
       "    </tr>\n",
       "    <tr>\n",
       "      <th>max</th>\n",
       "      <td>225693.000000</td>\n",
       "      <td>830795.000000</td>\n",
       "      <td>1.286070e+18</td>\n",
       "    </tr>\n",
       "  </tbody>\n",
       "</table>\n",
       "</div>"
      ],
      "text/plain": [
       "       retweet_count  favorite_count        id_str\n",
       "count    4615.000000     4615.000000  4.615000e+03\n",
       "mean    17955.441170    57645.367714  1.243055e+18\n",
       "std     15411.695913    80936.116430  1.897700e+16\n",
       "min         0.000000        0.000000  1.211969e+18\n",
       "25%      7740.500000        0.000000  1.226120e+18\n",
       "50%     13357.000000    28526.000000  1.241662e+18\n",
       "75%     23630.500000    93904.500000  1.257781e+18\n",
       "max    225693.000000   830795.000000  1.286070e+18"
      ]
     },
     "execution_count": 11,
     "metadata": {},
     "output_type": "execute_result"
    }
   ],
   "source": [
    "trump_df.describe()"
   ]
  },
  {
   "cell_type": "code",
   "execution_count": 12,
   "metadata": {},
   "outputs": [
    {
     "data": {
      "text/html": [
       "<div>\n",
       "<style scoped>\n",
       "    .dataframe tbody tr th:only-of-type {\n",
       "        vertical-align: middle;\n",
       "    }\n",
       "\n",
       "    .dataframe tbody tr th {\n",
       "        vertical-align: top;\n",
       "    }\n",
       "\n",
       "    .dataframe thead th {\n",
       "        text-align: right;\n",
       "    }\n",
       "</style>\n",
       "<table border=\"1\" class=\"dataframe\">\n",
       "  <thead>\n",
       "    <tr style=\"text-align: right;\">\n",
       "      <th></th>\n",
       "      <th>retweet_count</th>\n",
       "      <th>favorite_count</th>\n",
       "      <th>id_str</th>\n",
       "    </tr>\n",
       "  </thead>\n",
       "  <tbody>\n",
       "    <tr>\n",
       "      <th>count</th>\n",
       "      <td>1676.000000</td>\n",
       "      <td>1.676000e+03</td>\n",
       "      <td>1.676000e+03</td>\n",
       "    </tr>\n",
       "    <tr>\n",
       "      <th>mean</th>\n",
       "      <td>8384.615155</td>\n",
       "      <td>4.069876e+04</td>\n",
       "      <td>1.248493e+18</td>\n",
       "    </tr>\n",
       "    <tr>\n",
       "      <th>std</th>\n",
       "      <td>12698.710369</td>\n",
       "      <td>6.848496e+04</td>\n",
       "      <td>2.030649e+16</td>\n",
       "    </tr>\n",
       "    <tr>\n",
       "      <th>min</th>\n",
       "      <td>11.000000</td>\n",
       "      <td>3.400000e+01</td>\n",
       "      <td>1.211809e+18</td>\n",
       "    </tr>\n",
       "    <tr>\n",
       "      <th>25%</th>\n",
       "      <td>1913.000000</td>\n",
       "      <td>7.488750e+03</td>\n",
       "      <td>1.232108e+18</td>\n",
       "    </tr>\n",
       "    <tr>\n",
       "      <th>50%</th>\n",
       "      <td>4777.500000</td>\n",
       "      <td>1.982500e+04</td>\n",
       "      <td>1.247396e+18</td>\n",
       "    </tr>\n",
       "    <tr>\n",
       "      <th>75%</th>\n",
       "      <td>10714.500000</td>\n",
       "      <td>4.830775e+04</td>\n",
       "      <td>1.265036e+18</td>\n",
       "    </tr>\n",
       "    <tr>\n",
       "      <th>max</th>\n",
       "      <td>333504.000000</td>\n",
       "      <td>1.662229e+06</td>\n",
       "      <td>1.286459e+18</td>\n",
       "    </tr>\n",
       "  </tbody>\n",
       "</table>\n",
       "</div>"
      ],
      "text/plain": [
       "       retweet_count  favorite_count        id_str\n",
       "count    1676.000000    1.676000e+03  1.676000e+03\n",
       "mean     8384.615155    4.069876e+04  1.248493e+18\n",
       "std     12698.710369    6.848496e+04  2.030649e+16\n",
       "min        11.000000    3.400000e+01  1.211809e+18\n",
       "25%      1913.000000    7.488750e+03  1.232108e+18\n",
       "50%      4777.500000    1.982500e+04  1.247396e+18\n",
       "75%     10714.500000    4.830775e+04  1.265036e+18\n",
       "max    333504.000000    1.662229e+06  1.286459e+18"
      ]
     },
     "execution_count": 12,
     "metadata": {},
     "output_type": "execute_result"
    }
   ],
   "source": [
    "biden_df.describe()"
   ]
  },
  {
   "cell_type": "markdown",
   "metadata": {},
   "source": [
    "## How engaging are their tweets?: Viewing the average number of retweets and favorites. "
   ]
  },
  {
   "cell_type": "markdown",
   "metadata": {},
   "source": [
    "#### Trump"
   ]
  },
  {
   "cell_type": "code",
   "execution_count": 13,
   "metadata": {},
   "outputs": [
    {
     "name": "stdout",
     "output_type": "stream",
     "text": [
      "Trump retweet average: 17955.441170097507\n"
     ]
    }
   ],
   "source": [
    "trump_rt_avg = trump_df.mean()['retweet_count']\n",
    "print(\"Trump retweet average:\", trump_rt_avg)"
   ]
  },
  {
   "cell_type": "code",
   "execution_count": 14,
   "metadata": {},
   "outputs": [
    {
     "name": "stdout",
     "output_type": "stream",
     "text": [
      "Trump favorite average: 57645.367713976164\n"
     ]
    }
   ],
   "source": [
    "trump_favorite_avg = trump_df.mean()['favorite_count']\n",
    "print(\"Trump favorite average:\", trump_favorite_avg)"
   ]
  },
  {
   "cell_type": "code",
   "execution_count": 15,
   "metadata": {},
   "outputs": [
    {
     "name": "stdout",
     "output_type": "stream",
     "text": [
      "Trump's most retweeted and favorited tweet: The United States of America will be designating ANTIFA as a Terrorist Organization.\n"
     ]
    }
   ],
   "source": [
    "trump_most_rts = trump_df.loc[trump_df['retweet_count'].idxmax()].text\n",
    "print(\"Trump's most retweeted and favorited tweet:\", trump_most_rts)"
   ]
  },
  {
   "cell_type": "markdown",
   "metadata": {},
   "source": [
    "#### Biden"
   ]
  },
  {
   "cell_type": "code",
   "execution_count": 16,
   "metadata": {},
   "outputs": [
    {
     "name": "stdout",
     "output_type": "stream",
     "text": [
      "Biden retweet average: 8384.615155131265\n"
     ]
    }
   ],
   "source": [
    "biden_rt_avg = biden_df.mean()['retweet_count']\n",
    "print(\"Biden retweet average:\", biden_rt_avg)"
   ]
  },
  {
   "cell_type": "code",
   "execution_count": 17,
   "metadata": {},
   "outputs": [
    {
     "name": "stdout",
     "output_type": "stream",
     "text": [
      "Biden favorite average: 40698.75715990453\n"
     ]
    }
   ],
   "source": [
    "biden_favorite_avg = biden_df.mean()['favorite_count']\n",
    "print(\"Biden favorite average:\", biden_favorite_avg)"
   ]
  },
  {
   "cell_type": "code",
   "execution_count": 18,
   "metadata": {},
   "outputs": [
    {
     "name": "stdout",
     "output_type": "stream",
     "text": [
      "Biden's most retweeted and favorited tweet: I can’t believe I have to say this, but please don’t drink bleach.\n"
     ]
    }
   ],
   "source": [
    "biden_most_rts = biden_df.loc[biden_df['retweet_count'].idxmax()].text\n",
    "print(\"Biden's most retweeted and favorited tweet:\", biden_most_rts)"
   ]
  },
  {
   "cell_type": "code",
   "execution_count": 19,
   "metadata": {},
   "outputs": [
    {
     "name": "stdout",
     "output_type": "stream",
     "text": [
      "Trump gets 2.14 times more retweets than Biden.\n",
      "That's an increase of 114.15 %\n"
     ]
    }
   ],
   "source": [
    "# Calculate how much more retweets and favorites trump gets on average than Biden\n",
    "print(\"Trump gets\", round(trump_rt_avg / biden_rt_avg, 2), \"times more retweets than Biden.\" )\n",
    "print(\"That's an increase of\", round(100 * (trump_rt_avg - biden_rt_avg) / biden_rt_avg, 2) ,\"%\")"
   ]
  },
  {
   "cell_type": "code",
   "execution_count": 20,
   "metadata": {},
   "outputs": [
    {
     "name": "stdout",
     "output_type": "stream",
     "text": [
      "Trump gets 1.42 times more favorites than Biden.\n",
      "That's an increase of 41.64 %\n"
     ]
    }
   ],
   "source": [
    "print(\"Trump gets\", round(trump_favorite_avg / biden_favorite_avg, 2), \"times more favorites than Biden.\" )\n",
    "print(\"That's an increase of\", round(100 * (trump_favorite_avg - biden_favorite_avg) / biden_favorite_avg, 2) ,\"%\")"
   ]
  },
  {
   "cell_type": "markdown",
   "metadata": {},
   "source": [
    "## Looks like Trump gets much more retweets and favorites than Biden. Let's use boxplots to visualize the differences more clearly. "
   ]
  },
  {
   "cell_type": "code",
   "execution_count": 21,
   "metadata": {},
   "outputs": [
    {
     "name": "stderr",
     "output_type": "stream",
     "text": [
      "C:\\Users\\david\\anaconda3\\envs\\PythonCPU\\lib\\site-packages\\numpy\\core\\_asarray.py:83: VisibleDeprecationWarning: Creating an ndarray from ragged nested sequences (which is a list-or-tuple of lists-or-tuples-or ndarrays with different lengths or shapes) is deprecated. If you meant to do this, you must specify 'dtype=object' when creating the ndarray\n",
      "  return array(a, dtype, copy=False, order=order)\n"
     ]
    },
    {
     "data": {
      "text/plain": [
       "Text(0.5, 1.0, 'Trump vs Biden Retweets')"
      ]
     },
     "execution_count": 21,
     "metadata": {},
     "output_type": "execute_result"
    },
    {
     "data": {
      "image/png": "[encoded data removed]",
      "text/plain": [
       "<Figure size 432x720 with 1 Axes>"
      ]
     },
     "metadata": {
      "needs_background": "light"
     },
     "output_type": "display_data"
    }
   ],
   "source": [
    "plt.style.use('seaborn-notebook')\n",
    "plt.figure(figsize=(6, 10))\n",
    "plt.boxplot([trump_df['retweet_count'], biden_df['retweet_count']], labels=['Trump', 'Biden'], autorange=False)\n",
    "\n",
    "plt.ylabel('Retweets')\n",
    "plt.title('Trump vs Biden Retweets')"
   ]
  },
  {
   "cell_type": "code",
   "execution_count": 22,
   "metadata": {},
   "outputs": [
    {
     "name": "stderr",
     "output_type": "stream",
     "text": [
      "C:\\Users\\david\\anaconda3\\envs\\PythonCPU\\lib\\site-packages\\numpy\\core\\_asarray.py:83: VisibleDeprecationWarning: Creating an ndarray from ragged nested sequences (which is a list-or-tuple of lists-or-tuples-or ndarrays with different lengths or shapes) is deprecated. If you meant to do this, you must specify 'dtype=object' when creating the ndarray\n",
      "  return array(a, dtype, copy=False, order=order)\n"
     ]
    },
    {
     "data": {
      "text/plain": [
       "Text(0.5, 1.0, 'Trump vs Biden Favorites')"
      ]
     },
     "execution_count": 22,
     "metadata": {},
     "output_type": "execute_result"
    },
    {
     "data": {
      "image/png": "[encoded data removed]",
      "text/plain": [
       "<Figure size 432x720 with 1 Axes>"
      ]
     },
     "metadata": {
      "needs_background": "light"
     },
     "output_type": "display_data"
    }
   ],
   "source": [
    "plt.figure(figsize=(6, 10))\n",
    "plt.boxplot([trump_df['favorite_count'], biden_df['favorite_count']], labels=['Trump', 'Biden'], autorange=False)\n",
    "plt.ylabel('Favorites')\n",
    "plt.title('Trump vs Biden Favorites')"
   ]
  },
  {
   "cell_type": "markdown",
   "metadata": {},
   "source": [
    "## Which words and n-grams do they use the most?"
   ]
  },
  {
   "cell_type": "markdown",
   "metadata": {},
   "source": [
    "### Unigrams"
   ]
  },
  {
   "cell_type": "code",
   "execution_count": 23,
   "metadata": {},
   "outputs": [],
   "source": [
    "trump_tokens = trump_df['tokens'].explode()\n",
    "biden_tokens = biden_df['tokens'].explode()\n",
    "\n",
    "trump_unigrams = FreqDist(ngrams(trump_tokens, 1))\n",
    "biden_unigrams = FreqDist(ngrams(biden_tokens, 1))"
   ]
  },
  {
   "cell_type": "code",
   "execution_count": 24,
   "metadata": {},
   "outputs": [
    {
     "data": {
      "text/plain": [
       "[(('great',), 700),\n",
       " (('realdonaldtrump',), 526),\n",
       " (('president',), 499),\n",
       " (('people',), 408),\n",
       " (('thank',), 340),\n",
       " (('trump',), 335),\n",
       " (('democrats',), 310),\n",
       " (('news',), 309),\n",
       " (('new',), 271),\n",
       " (('coronavirus',), 255),\n",
       " (('fake',), 242),\n",
       " (('american',), 223),\n",
       " (('house',), 219),\n",
       " (('big',), 213),\n",
       " (('get',), 203),\n",
       " (('never',), 200),\n",
       " (('would',), 197),\n",
       " (('whitehouse',), 196),\n",
       " (('impeachment',), 195),\n",
       " (('like',), 189)]"
      ]
     },
     "execution_count": 24,
     "metadata": {},
     "output_type": "execute_result"
    },
    {
     "data": {
      "image/png": "[encoded data removed]",
      "text/plain": [
       "<Figure size 864x576 with 1 Axes>"
      ]
     },
     "metadata": {},
     "output_type": "display_data"
    }
   ],
   "source": [
    "plt.style.use('seaborn')\n",
    "NUM_NGRAMS = 20\n",
    "\n",
    "pd.Series(ngrams(trump_tokens, 1)).value_counts()[:NUM_NGRAMS].sort_values().plot.barh(color='orangered', width=.7, figsize=(12,8))\n",
    "plt.title(\"Trump's Top 20 Unigrams\")\n",
    "plt.ylabel('Unigram')\n",
    "plt.xlabel('# of occurrences')\n",
    "trump_unigrams.most_common(NUM_NGRAMS)"
   ]
  },
  {
   "cell_type": "code",
   "execution_count": 25,
   "metadata": {},
   "outputs": [
    {
     "data": {
      "text/plain": [
       "[(('trump',), 463),\n",
       " (('donald',), 399),\n",
       " (('president',), 390),\n",
       " (('need',), 317),\n",
       " (('nation',), 213),\n",
       " (('one',), 208),\n",
       " (('people',), 193),\n",
       " (('american',), 192),\n",
       " (('every',), 181),\n",
       " (('country',), 180),\n",
       " (('crisis',), 174),\n",
       " (('get',), 173),\n",
       " (('together',), 158),\n",
       " (('make',), 157),\n",
       " (('health',), 151),\n",
       " (('day',), 149),\n",
       " (('time',), 142),\n",
       " (('today',), 139),\n",
       " (('care',), 132),\n",
       " (('help',), 131)]"
      ]
     },
     "execution_count": 25,
     "metadata": {},
     "output_type": "execute_result"
    },
    {
     "data": {
      "image/png": "[encoded data removed]",
      "text/plain": [
       "<Figure size 864x576 with 1 Axes>"
      ]
     },
     "metadata": {},
     "output_type": "display_data"
    }
   ],
   "source": [
    "pd.Series(ngrams(biden_tokens, 1)).value_counts()[:NUM_NGRAMS].sort_values().plot.barh(color='dodgerblue', width=.7, figsize=(12,8))\n",
    "plt.title(\"Biden's Top 20 Unigrams\")\n",
    "plt.ylabel('Unigram')\n",
    "plt.xlabel('# of occurrences')\n",
    "biden_unigrams.most_common(NUM_NGRAMS)"
   ]
  },
  {
   "cell_type": "markdown",
   "metadata": {},
   "source": [
    "### Bigrams"
   ]
  },
  {
   "cell_type": "code",
   "execution_count": 26,
   "metadata": {},
   "outputs": [],
   "source": [
    "trump_bigrams = FreqDist(ngrams(trump_tokens, 2))\n",
    "biden_bigrams = FreqDist(ngrams(biden_tokens, 2))"
   ]
  },
  {
   "cell_type": "code",
   "execution_count": 27,
   "metadata": {},
   "outputs": [
    {
     "data": {
      "text/plain": [
       "[(('fake', 'news'), 186),\n",
       " (('president', 'realdonaldtrump'), 131),\n",
       " (('complete', 'total'), 115),\n",
       " (('total', 'endorsement'), 114),\n",
       " (('white', 'house'), 93),\n",
       " (('president', 'trump'), 92),\n",
       " (('united', 'states'), 85),\n",
       " (('joe', 'biden'), 76),\n",
       " (('radical', 'left'), 73),\n",
       " (('new', 'york'), 72),\n",
       " (('second', 'amendment'), 67),\n",
       " (('great', 'state'), 65),\n",
       " (('republican', 'party'), 63),\n",
       " (('great', 'job'), 62),\n",
       " (('military', 'vets'), 62),\n",
       " (('sleepy', 'joe'), 61),\n",
       " (('mini', 'mike'), 57),\n",
       " (('american', 'people'), 52),\n",
       " (('nothing', 'democrats'), 51),\n",
       " (('small', 'businesses'), 50)]"
      ]
     },
     "execution_count": 27,
     "metadata": {},
     "output_type": "execute_result"
    },
    {
     "data": {
      "image/png": "[encoded data removed]",
      "text/plain": [
       "<Figure size 864x576 with 1 Axes>"
      ]
     },
     "metadata": {},
     "output_type": "display_data"
    }
   ],
   "source": [
    "pd.Series(ngrams(trump_tokens, 2)).value_counts()[:NUM_NGRAMS].sort_values().plot.barh(color='orangered', width=.7, figsize=(12,8))\n",
    "plt.title(\"Trump's Top 20 Bigrams\")\n",
    "plt.ylabel('Bigram')\n",
    "plt.xlabel('# of occurrences')\n",
    "trump_bigrams.most_common(NUM_NGRAMS)"
   ]
  },
  {
   "cell_type": "code",
   "execution_count": 28,
   "metadata": {},
   "outputs": [
    {
     "data": {
      "text/plain": [
       "[(('donald', 'trump'), 345),\n",
       " (('health', 'care'), 87),\n",
       " (('white', 'house'), 80),\n",
       " (('american', 'people'), 70),\n",
       " (('need', 'president'), 60),\n",
       " (('donald', 'trumps'), 53),\n",
       " (('president', 'trump'), 50),\n",
       " (('soul', 'nation'), 49),\n",
       " (('need', 'help'), 47),\n",
       " (('every', 'day'), 42),\n",
       " (('beat', 'donald'), 42),\n",
       " (('across', 'country'), 33),\n",
       " (('make', 'sure'), 30),\n",
       " (('battle', 'soul'), 30),\n",
       " (('climate', 'change'), 30),\n",
       " (('front', 'lines'), 30),\n",
       " (('south', 'carolina'), 29),\n",
       " (('public', 'health'), 27),\n",
       " (('four', 'years'), 27),\n",
       " (('come', 'together'), 26)]"
      ]
     },
     "execution_count": 28,
     "metadata": {},
     "output_type": "execute_result"
    },
    {
     "data": {
      "image/png": "[encoded data removed]",
      "text/plain": [
       "<Figure size 864x576 with 1 Axes>"
      ]
     },
     "metadata": {},
     "output_type": "display_data"
    }
   ],
   "source": [
    "# Plotting\n",
    "pd.Series(ngrams(biden_tokens, 2)).value_counts()[:NUM_NGRAMS].sort_values().plot.barh(color='dodgerblue', width=.7, figsize=(12,8))\n",
    "plt.title(\"Bidens's Top 20 Bigrams\")\n",
    "plt.ylabel('Bigram')\n",
    "plt.xlabel('# of occurrences')\n",
    "biden_bigrams.most_common(NUM_NGRAMS)"
   ]
  },
  {
   "cell_type": "markdown",
   "metadata": {},
   "source": [
    "### Trigrams"
   ]
  },
  {
   "cell_type": "code",
   "execution_count": 29,
   "metadata": {},
   "outputs": [],
   "source": [
    "trump_trigrams = FreqDist(ngrams(trump_tokens, 3))\n",
    "biden_trigrams = FreqDist(ngrams(biden_tokens, 3))"
   ]
  },
  {
   "cell_type": "code",
   "execution_count": 30,
   "metadata": {},
   "outputs": [
    {
     "data": {
      "text/plain": [
       "[(('complete', 'total', 'endorsement'), 113),\n",
       " (('coronavirus', 'task', 'force'), 37),\n",
       " (('whitehouse', 'president', 'realdonaldtrump'), 32),\n",
       " (('fake', 'news', 'media'), 29),\n",
       " (('approval', 'rating', 'republican'), 28),\n",
       " (('rating', 'republican', 'party'), 28),\n",
       " (('whitehouse', 'live', 'press'), 27),\n",
       " (('live', 'press', 'briefing'), 27),\n",
       " (('press', 'briefing', 'coronavirus'), 27),\n",
       " (('briefing', 'coronavirus', 'task'), 27),\n",
       " (('fake', 'news', 'cnn'), 25),\n",
       " (('loves', 'military', 'vets'), 25),\n",
       " (('radical', 'left', 'nothing'), 24),\n",
       " (('sleepy', 'joe', 'biden'), 23),\n",
       " (('left', 'nothing', 'democrats'), 23),\n",
       " (('mini', 'mike', 'bloomberg'), 21),\n",
       " (('supporter', 'maga', 'agenda'), 20),\n",
       " (('republican', 'party', 'thank'), 17),\n",
       " (('keep', 'america', 'great'), 17),\n",
       " (('make', 'america', 'great'), 16)]"
      ]
     },
     "execution_count": 30,
     "metadata": {},
     "output_type": "execute_result"
    },
    {
     "data": {
      "image/png": "[encoded data removed]",
      "text/plain": [
       "<Figure size 864x576 with 1 Axes>"
      ]
     },
     "metadata": {},
     "output_type": "display_data"
    }
   ],
   "source": [
    "pd.Series(ngrams(trump_tokens, 3)).value_counts()[:NUM_NGRAMS].sort_values().plot.barh(color='orangered', width=.7, figsize=(12,8))\n",
    "plt.title(\"Trump's Top 20 Trigrams\")\n",
    "plt.ylabel('Trigram')\n",
    "plt.xlabel('# of occurrences')\n",
    "trump_trigrams.most_common(NUM_NGRAMS)"
   ]
  },
  {
   "cell_type": "code",
   "execution_count": 31,
   "metadata": {},
   "outputs": [
    {
     "data": {
      "text/plain": [
       "[(('beat', 'donald', 'trump'), 41),\n",
       " (('battle', 'soul', 'nation'), 30),\n",
       " (('defeat', 'donald', 'trump'), 21),\n",
       " (('trump', 'white', 'house'), 20),\n",
       " (('keep', 'momentum', 'going'), 20),\n",
       " (('health', 'care', 'workers'), 18),\n",
       " (('gun', 'violence', 'epidemic'), 17),\n",
       " (('donald', 'trump', 'white'), 16),\n",
       " (('end', 'gun', 'violence'), 16),\n",
       " (('tune', 'watch', 'live'), 16),\n",
       " (('make', 'voice', 'heard'), 15),\n",
       " (('front', 'lines', 'crisis'), 14),\n",
       " (('restore', 'soul', 'nation'), 14),\n",
       " (('every', 'single', 'day'), 13),\n",
       " (('four', 'years', 'donald'), 13),\n",
       " (('front', 'lines', 'fight'), 13),\n",
       " (('get', 'donald', 'trump'), 13),\n",
       " (('get', 'white', 'house'), 13),\n",
       " (('public', 'health', 'crisis'), 12),\n",
       " (('american', 'people', 'deserve'), 12)]"
      ]
     },
     "execution_count": 31,
     "metadata": {},
     "output_type": "execute_result"
    },
    {
     "data": {
      "image/png": "[encoded data removed]",
      "text/plain": [
       "<Figure size 864x576 with 1 Axes>"
      ]
     },
     "metadata": {},
     "output_type": "display_data"
    }
   ],
   "source": [
    "pd.Series(ngrams(biden_tokens, 3)).value_counts()[:NUM_NGRAMS].sort_values().plot.barh(color='dodgerblue', width=.7, figsize=(12,8))\n",
    "plt.title(\"Biden's Top 20 Trigrams\")\n",
    "plt.ylabel('Trigram')\n",
    "plt.xlabel('# of occurrences')\n",
    "biden_trigrams.most_common(NUM_NGRAMS)"
   ]
  },
  {
   "cell_type": "markdown",
   "metadata": {},
   "source": [
    "### 4-5 grams"
   ]
  },
  {
   "cell_type": "code",
   "execution_count": 32,
   "metadata": {},
   "outputs": [
    {
     "data": {
      "text/plain": [
       "[(('approval', 'rating', 'republican', 'party'), 28),\n",
       " (('whitehouse', 'live', 'press', 'briefing'), 27),\n",
       " (('live', 'press', 'briefing', 'coronavirus'), 27),\n",
       " (('press', 'briefing', 'coronavirus', 'task'), 27),\n",
       " (('briefing', 'coronavirus', 'task', 'force'), 27),\n",
       " (('whitehouse', 'live', 'press', 'briefing', 'coronavirus'), 27),\n",
       " (('live', 'press', 'briefing', 'coronavirus', 'task'), 27),\n",
       " (('press', 'briefing', 'coronavirus', 'task', 'force'), 27),\n",
       " (('radical', 'left', 'nothing', 'democrats'), 21),\n",
       " (('rating', 'republican', 'party', 'thank'), 16),\n",
       " (('approval', 'rating', 'republican', 'party', 'thank'), 16),\n",
       " (('white', 'house', 'news', 'conference'), 14),\n",
       " (('whitehouse', 'live', 'president', 'realdonaldtrump'), 12),\n",
       " (('complete', 'total', 'endorsement', 'congressman'), 11),\n",
       " (('complete', 'total', 'endorsement', 'vote'), 10),\n",
       " (('military', 'vets', 'second', 'amendment'), 9),\n",
       " (('white', 'house', 'press', 'conference'), 9),\n",
       " (('supporter', 'maga', 'agenda', 'strong'), 8),\n",
       " (('mike', 'complete', 'total', 'endorsement'), 8),\n",
       " (('loves', 'military', 'vets', 'strong'), 8)]"
      ]
     },
     "execution_count": 32,
     "metadata": {},
     "output_type": "execute_result"
    },
    {
     "data": {
      "image/png": "[encoded data removed]",
      "text/plain": [
       "<Figure size 864x576 with 1 Axes>"
      ]
     },
     "metadata": {},
     "output_type": "display_data"
    }
   ],
   "source": [
    "pd.Series(everygrams(trump_tokens, min_len= 4, max_len=5)).value_counts()[:NUM_NGRAMS].sort_values().plot.barh(color='orangered', width=.7, figsize=(12,8))\n",
    "plt.title(\"Trump's Top 20 4-5grams\")\n",
    "plt.ylabel('4-5grams')\n",
    "plt.xlabel('# of occurrences')\n",
    "\n",
    "trump_4_5_grams = FreqDist(everygrams(trump_tokens, min_len= 4, max_len=5))\n",
    "trump_4_5_grams.most_common(NUM_NGRAMS)"
   ]
  },
  {
   "cell_type": "code",
   "execution_count": 33,
   "metadata": {},
   "outputs": [
    {
     "data": {
      "image/png": "[encoded data removed]",
      "text/plain": [
       "<Figure size 864x576 with 1 Axes>"
      ]
     },
     "metadata": {},
     "output_type": "display_data"
    }
   ],
   "source": [
    "pd.Series(everygrams(biden_tokens, min_len= 4, max_len=5)).value_counts()[:NUM_NGRAMS].sort_values().plot.barh(color='dodgerblue', width=.7, figsize=(12,8))\n",
    "plt.title(\"Biden's Top 20 4-5grams\")\n",
    "plt.ylabel('4-5gram')\n",
    "plt.xlabel('# of occurrences')\n",
    "\n",
    "biden_4_5_grams = FreqDist(everygrams(biden_tokens, min_len= 4, max_len=5)).most_common(NUM_NGRAMS)"
   ]
  },
  {
   "cell_type": "markdown",
   "metadata": {},
   "source": [
    "From the above n-grams, it seems that Biden talks a lot about gun violence and healthcare, while Trump talks a lot about the coronavirus task force and republican party ratings. They also both mention each other a lot. Question is, how much? "
   ]
  },
  {
   "cell_type": "markdown",
   "metadata": {},
   "source": [
    "## How many times do they mention each other?"
   ]
  },
  {
   "cell_type": "code",
   "execution_count": 34,
   "metadata": {},
   "outputs": [
    {
     "name": "stdout",
     "output_type": "stream",
     "text": [
      "227 Trump tweets mention Joe Biden.\n",
      "That means 4.92 % of Trump tweets mention Joe Biden\n"
     ]
    }
   ],
   "source": [
    "trump_tweets_contain_biden = trump_df[trump_df['text'].str.lower().str.contains(\"joe|biden\")]\n",
    "print(len(trump_tweets_contain_biden), \"Trump tweets mention Joe Biden.\")\n",
    "trump_mention_biden_percent = round(100 * len(trump_tweets_contain_biden)/ len(trump_df), 2)\n",
    "print(\"That means\", trump_mention_biden_percent,  \"% of Trump tweets mention Joe Biden\")"
   ]
  },
  {
   "cell_type": "code",
   "execution_count": 35,
   "metadata": {},
   "outputs": [
    {
     "name": "stdout",
     "output_type": "stream",
     "text": [
      "517 Biden tweets mention Donald Trump.\n",
      "That means 30.85 % of Biden tweets mention Donald Trump\n"
     ]
    }
   ],
   "source": [
    "biden_tweets_contain_trump = biden_df[biden_df['text'].str.lower().str.contains(\"trump|donald\")]\n",
    "print(len(biden_tweets_contain_trump), \"Biden tweets mention Donald Trump.\")\n",
    "biden_mention_trump_percent = round(100 * len(biden_tweets_contain_trump)/ len(biden_df), 2)\n",
    "print(\"That means\", biden_mention_trump_percent,  \"% of Biden tweets mention Donald Trump\")"
   ]
  },
  {
   "cell_type": "markdown",
   "metadata": {},
   "source": [
    "## How many times do they mention the coronavirus? "
   ]
  },
  {
   "cell_type": "code",
   "execution_count": 36,
   "metadata": {},
   "outputs": [
    {
     "name": "stdout",
     "output_type": "stream",
     "text": [
      "219\n",
      "That means 13.07 % of Biden tweets mention coronavirus\n"
     ]
    }
   ],
   "source": [
    "corona_regex = \"covid|corona|virus|pandemic\"\n",
    "biden_tweets_relate_corona = biden_df[biden_df['text'].str.lower().str.contains(corona_regex)]\n",
    "print(len(biden_tweets_relate_corona))\n",
    "biden_tweets_relate_corona_percent = round(100 * len(biden_tweets_relate_corona)/ len(biden_df), 2)\n",
    "print(\"That means\", biden_tweets_relate_corona_percent,  \"% of Biden tweets mention coronavirus\")"
   ]
  },
  {
   "cell_type": "code",
   "execution_count": 37,
   "metadata": {},
   "outputs": [
    {
     "name": "stdout",
     "output_type": "stream",
     "text": [
      "443\n",
      "That means 9.6 % of Trump tweets mention coronavirus\n"
     ]
    }
   ],
   "source": [
    "trump_tweets_relate_corona = trump_df[trump_df['text'].str.lower().str.contains(corona_regex)]\n",
    "print(len(trump_tweets_relate_corona))\n",
    "trump_tweets_relate_corona_percent = round(100 * len(trump_tweets_relate_corona)/ len(trump_df), 2)\n",
    "print(\"That means\", trump_tweets_relate_corona_percent,  \"% of Trump tweets mention coronavirus\")"
   ]
  },
  {
   "cell_type": "markdown",
   "metadata": {},
   "source": [
    "Though Biden has less tweets about the coronavirus pandemic, this is due to Biden tweeting less than Trump overall. In relation to the rest of their tweets, Biden has a higher focus on the coronavirus pandemic than Trump. Also while only ~5% of Trump tweets mention Joe Biden, nearly 31% of Biden tweets mention Trump."
   ]
  },
  {
   "cell_type": "markdown",
   "metadata": {},
   "source": [
    "# How frequently do they tweet? Has the frequency of tweets changed as the pandemic evolved?"
   ]
  },
  {
   "cell_type": "markdown",
   "metadata": {},
   "source": [
    "### Trump"
   ]
  },
  {
   "cell_type": "code",
   "execution_count": 38,
   "metadata": {},
   "outputs": [
    {
     "ename": "NameError",
     "evalue": "name 'trump_tweet_counts_by_date' is not defined",
     "output_type": "error",
     "traceback": [
      "\u001b[1;31m---------------------------------------------------------------------------\u001b[0m",
      "\u001b[1;31mNameError\u001b[0m                                 Traceback (most recent call last)",
      "\u001b[1;32m<ipython-input-38-37128f1be33f>\u001b[0m in \u001b[0;36m<module>\u001b[1;34m\u001b[0m\n\u001b[0;32m      1\u001b[0m \u001b[0mtrump_tweet_by_date\u001b[0m \u001b[1;33m=\u001b[0m \u001b[0mtrump_df\u001b[0m\u001b[1;33m.\u001b[0m\u001b[0mgroupby\u001b[0m\u001b[1;33m(\u001b[0m\u001b[0mby\u001b[0m\u001b[1;33m=\u001b[0m\u001b[0mtrump_df\u001b[0m\u001b[1;33m[\u001b[0m\u001b[1;34m'created_at'\u001b[0m\u001b[1;33m]\u001b[0m\u001b[1;33m.\u001b[0m\u001b[0mdt\u001b[0m\u001b[1;33m.\u001b[0m\u001b[0mdate\u001b[0m\u001b[1;33m)\u001b[0m\u001b[1;33m.\u001b[0m\u001b[0mcount\u001b[0m\u001b[1;33m(\u001b[0m\u001b[1;33m)\u001b[0m\u001b[1;33m[\u001b[0m\u001b[1;34m'text'\u001b[0m\u001b[1;33m]\u001b[0m\u001b[1;33m\u001b[0m\u001b[1;33m\u001b[0m\u001b[0m\n\u001b[1;32m----> 2\u001b[1;33m \u001b[0mplt\u001b[0m\u001b[1;33m.\u001b[0m\u001b[0mplot\u001b[0m\u001b[1;33m(\u001b[0m\u001b[0mtrump_tweet_counts_by_date\u001b[0m\u001b[1;33m.\u001b[0m\u001b[0mindex\u001b[0m\u001b[1;33m.\u001b[0m\u001b[0mvalues\u001b[0m\u001b[1;33m,\u001b[0m \u001b[0mtrump_tweet_by_date\u001b[0m\u001b[1;33m,\u001b[0m \u001b[0mcolor\u001b[0m\u001b[1;33m=\u001b[0m\u001b[1;34m'orangered'\u001b[0m\u001b[1;33m)\u001b[0m\u001b[1;33m\u001b[0m\u001b[1;33m\u001b[0m\u001b[0m\n\u001b[0m\u001b[0;32m      3\u001b[0m \u001b[0mplt\u001b[0m\u001b[1;33m.\u001b[0m\u001b[0mxlabel\u001b[0m\u001b[1;33m(\u001b[0m\u001b[1;34m'Date'\u001b[0m\u001b[1;33m)\u001b[0m\u001b[1;33m\u001b[0m\u001b[1;33m\u001b[0m\u001b[0m\n\u001b[0;32m      4\u001b[0m \u001b[0mplt\u001b[0m\u001b[1;33m.\u001b[0m\u001b[0mylabel\u001b[0m\u001b[1;33m(\u001b[0m\u001b[1;34m'Tweets'\u001b[0m\u001b[1;33m)\u001b[0m\u001b[1;33m\u001b[0m\u001b[1;33m\u001b[0m\u001b[0m\n\u001b[0;32m      5\u001b[0m \u001b[0mplt\u001b[0m\u001b[1;33m.\u001b[0m\u001b[0mtitle\u001b[0m\u001b[1;33m(\u001b[0m\u001b[1;34m'Number of Trump Tweets since December 31 2019'\u001b[0m\u001b[1;33m)\u001b[0m\u001b[1;33m\u001b[0m\u001b[1;33m\u001b[0m\u001b[0m\n",
      "\u001b[1;31mNameError\u001b[0m: name 'trump_tweet_counts_by_date' is not defined"
     ]
    }
   ],
   "source": [
    "trump_tweet_by_date = trump_df.groupby(by=trump_df['created_at'].dt.date).count()['text']\n",
    "plt.plot(trump_tweet_counts_by_date.index.values, trump_tweet_by_date, color='orangered')\n",
    "plt.xlabel('Date')\n",
    "plt.ylabel('Tweets')\n",
    "plt.title('Number of Trump Tweets since December 31 2019')\n",
    "plt.show()"
   ]
  },
  {
   "cell_type": "markdown",
   "metadata": {},
   "source": [
    "### Biden"
   ]
  },
  {
   "cell_type": "code",
   "execution_count": null,
   "metadata": {},
   "outputs": [],
   "source": [
    "biden_tweet_by_date = biden_df.groupby(by=biden_df['created_at'].dt.date).count()['text']\n",
    "plt.plot(biden_tweet_counts_by_date.index.values, biden_tweet_by_date, color='dodgerblue')\n",
    "plt.xlabel('Date')\n",
    "plt.ylabel('Tweets')\n",
    "plt.title('Number of Biden Tweets since December 31 2019')\n",
    "plt.show()"
   ]
  },
  {
   "cell_type": "markdown",
   "metadata": {},
   "source": [
    "### Both candidates on the same figure"
   ]
  },
  {
   "cell_type": "code",
   "execution_count": null,
   "metadata": {},
   "outputs": [],
   "source": [
    "plt.plot(trump_tweet_counts_by_date.index.values, trump_tweet_by_date, 'orangered')\n",
    "plt.plot(biden_tweet_counts_by_date.index.values, biden_tweet_by_date, 'dodgerblue')\n",
    "plt.xlabel('Date')\n",
    "plt.ylabel('Tweets')\n",
    "plt.title('Tweets since December 31 2019 ')\n",
    "plt.legend(['Trump', 'Biden'])\n",
    "plt.show()"
   ]
  },
  {
   "cell_type": "markdown",
   "metadata": {},
   "source": [
    "From the graphs above, it seems that there are peaks and valleys. Future work would be to investigate the dates with more tweets than normal to see if those are linked with news events. Moreover, the variance in the number of tweets brings up the question if they tweet more on certain days over others?"
   ]
  },
  {
   "cell_type": "markdown",
   "metadata": {},
   "source": [
    "## Do they prefer to tweet on certain days over others?"
   ]
  },
  {
   "cell_type": "code",
   "execution_count": null,
   "metadata": {},
   "outputs": [],
   "source": [
    "weekdays = [ 'Monday', 'Tuesday', 'Wednesday', 'Thursday', 'Friday', 'Saturday', 'Sunday']\n",
    "\n",
    "trump_tweets_by_weekday = trump_df.groupby(by=trump_df['created_at'].dt.day_name()).count().reindex(weekdays)['text']\n",
    "plt.bar(trump_tweets_by_weekday.index.values, trump_tweets_by_weekday, color='orangered')\n",
    "plt.xlabel('Day')\n",
    "plt.ylabel('Tweets')\n",
    "plt.title('Trump Tweets by Weekday')\n",
    "plt.show()"
   ]
  },
  {
   "cell_type": "code",
   "execution_count": null,
   "metadata": {},
   "outputs": [],
   "source": [
    "biden_tweets_by_weekday = biden_df.groupby(by=biden_df['created_at'].dt.day_name()).count().reindex(weekdays)['text']\n",
    "plt.bar(biden_tweets_by_weekday.index.values, biden_tweets_by_weekday, color='dodgerblue')\n",
    "plt.xlabel('Day')\n",
    "plt.ylabel('Tweets')\n",
    "plt.title('Biden Tweets by Weekday')\n",
    "plt.show()"
   ]
  },
  {
   "cell_type": "markdown",
   "metadata": {},
   "source": [
    "It seems that Biden tends to tweet most during the middle of the week and tapers off on the weekend. Whereas Trump tends to tweet consistently with a tendency to tweet more on Fridays and Sundays, and less on Mondays and Thursdays."
   ]
  },
  {
   "cell_type": "markdown",
   "metadata": {},
   "source": [
    "# 5. Sentiment Analysis<a class=\"anchor\" id=\"sentiment_analysis\">"
   ]
  },
  {
   "cell_type": "markdown",
   "metadata": {},
   "source": [
    "## Get polarity and subjectivity scores for candidate tweets"
   ]
  },
  {
   "cell_type": "code",
   "execution_count": null,
   "metadata": {},
   "outputs": [],
   "source": [
    "# Measure subjectivity of a text. Subjectivity is in the range [0.0, 1.0] where 0.0 is very objective and 1.0 is very subjective\n",
    "def get_subjectivity(text):\n",
    "    return TextBlob(text).sentiment.subjectivity\n",
    "\n",
    "# Use polarity as a measure for sentiment. Polarity is in the range [-1.0, 1.0] where -1 is negative and +1 is positive sentiment\n",
    "def get_polarity(text):\n",
    "    return TextBlob(text).sentiment.polarity"
   ]
  },
  {
   "cell_type": "code",
   "execution_count": null,
   "metadata": {},
   "outputs": [],
   "source": [
    "trump_df['Subjectivity'] = trump_df['clean_text'].apply(get_subjectivity)\n",
    "trump_df['Polarity'] = trump_df['clean_text'].apply(get_polarity)\n",
    "\n",
    "biden_df['Subjectivity'] = biden_df['clean_text'].apply(get_subjectivity)\n",
    "biden_df['Polarity'] = biden_df['clean_text'].apply(get_polarity)"
   ]
  },
  {
   "cell_type": "code",
   "execution_count": null,
   "metadata": {},
   "outputs": [],
   "source": [
    "print(trump_df['Polarity'])\n",
    "print(trump_df['Subjectivity'])"
   ]
  },
  {
   "cell_type": "markdown",
   "metadata": {},
   "source": [
    "## Assign positive, neutral, and negative labels to tweets based on polarity"
   ]
  },
  {
   "cell_type": "code",
   "execution_count": null,
   "metadata": {},
   "outputs": [],
   "source": [
    "def get_sentiment(polarity):\n",
    "    if polarity > 0:\n",
    "        return 'Positive'\n",
    "    elif polarity == 0:\n",
    "        return 'Neutral'\n",
    "    else:\n",
    "        return 'Negative'"
   ]
  },
  {
   "cell_type": "code",
   "execution_count": null,
   "metadata": {},
   "outputs": [],
   "source": [
    "trump_df['Sentiment'] = trump_df['Polarity'].apply(get_sentiment)\n",
    "biden_df['Sentiment'] = biden_df['Polarity'].apply(get_sentiment)"
   ]
  },
  {
   "cell_type": "code",
   "execution_count": null,
   "metadata": {},
   "outputs": [],
   "source": [
    "trump_df['Sentiment']"
   ]
  },
  {
   "cell_type": "markdown",
   "metadata": {},
   "source": [
    "## Most Positive and Negative Tweets"
   ]
  },
  {
   "cell_type": "markdown",
   "metadata": {},
   "source": [
    "### Trump"
   ]
  },
  {
   "cell_type": "code",
   "execution_count": null,
   "metadata": {},
   "outputs": [],
   "source": [
    "trump_most_positive = trump_df[trump_df['Polarity'] == 1.0]\n",
    "print(\"Trump has\", len(trump_most_positive), \"tweets with polarity = 1.0:\\n\" )\n",
    "\n",
    "for idx, tweet in enumerate(trump_most_positive['text']):\n",
    "    print(idx, tweet)\n",
    "    print()"
   ]
  },
  {
   "cell_type": "code",
   "execution_count": null,
   "metadata": {},
   "outputs": [],
   "source": [
    "trump_most_negative = trump_df[trump_df['Polarity'] == -1.0]\n",
    "print(\"Trump has\", len(trump_most_negative), \"tweets with polarity = -1.0:\\n\" )\n",
    "\n",
    "for idx, tweet in enumerate(trump_most_negative['text']):\n",
    "    print(idx, tweet)\n",
    "    print()"
   ]
  },
  {
   "cell_type": "markdown",
   "metadata": {},
   "source": [
    "### Biden"
   ]
  },
  {
   "cell_type": "code",
   "execution_count": null,
   "metadata": {},
   "outputs": [],
   "source": [
    "biden_most_positive = biden_df[biden_df['Polarity'] == 1.0]\n",
    "print(\"Biden has\", len(biden_most_positive), \"tweets with polarity = 1.0:\\n\" )\n",
    "\n",
    "for idx, tweet in enumerate(biden_most_positive['text']):\n",
    "    print(idx, tweet)\n",
    "    print()"
   ]
  },
  {
   "cell_type": "code",
   "execution_count": null,
   "metadata": {},
   "outputs": [],
   "source": [
    "biden_most_negative = biden_df[biden_df['Polarity'] == -1.0]\n",
    "print(\"Biden has\", len(biden_most_negative), \"tweets with polarity = -1.0:\\n\" )\n",
    "\n",
    "for idx, tweet in enumerate(biden_most_negative['text']):\n",
    "    print(idx, tweet)\n",
    "    print()"
   ]
  },
  {
   "cell_type": "markdown",
   "metadata": {},
   "source": [
    "## Visualize Sentiment Analysis"
   ]
  },
  {
   "cell_type": "code",
   "execution_count": null,
   "metadata": {},
   "outputs": [],
   "source": [
    "plt.figure(figsize=(8,6)) \n",
    "plt.scatter(trump_df[\"Polarity\"], trump_df[\"Subjectivity\"], color='orangered')            \n",
    "plt.title('Trump Sentiment Analysis') \n",
    "plt.xlabel('Polarity') \n",
    "plt.ylabel('Subjectivity') \n",
    "plt.show()"
   ]
  },
  {
   "cell_type": "code",
   "execution_count": null,
   "metadata": {},
   "outputs": [],
   "source": [
    "plt.figure(figsize=(8,6)) \n",
    "plt.scatter(biden_df[\"Polarity\"], biden_df[\"Subjectivity\"], color='dodgerblue') \n",
    "\n",
    "plt.title('Biden Sentiment Analysis') \n",
    "plt.xlabel('Polarity') \n",
    "plt.ylabel('Subjectivity') \n",
    "plt.show()"
   ]
  },
  {
   "cell_type": "markdown",
   "metadata": {},
   "source": [
    "### View the counts of positive, netural, and negative tweets"
   ]
  },
  {
   "cell_type": "code",
   "execution_count": null,
   "metadata": {},
   "outputs": [],
   "source": [
    "trump_df['Sentiment'].value_counts()"
   ]
  },
  {
   "cell_type": "code",
   "execution_count": null,
   "metadata": {},
   "outputs": [],
   "source": [
    "plt.title('Trump Sentiments')\n",
    "plt.xlabel('Sentiment')\n",
    "plt.ylabel('Counts')\n",
    "trump_df['Sentiment'].value_counts().plot(kind = 'bar', color='orangered')\n",
    "plt.show()"
   ]
  },
  {
   "cell_type": "code",
   "execution_count": null,
   "metadata": {},
   "outputs": [],
   "source": [
    "biden_df['Sentiment'].value_counts()"
   ]
  },
  {
   "cell_type": "code",
   "execution_count": null,
   "metadata": {},
   "outputs": [],
   "source": [
    "plt.title('Biden Sentiments')\n",
    "plt.xlabel('Sentiment')\n",
    "plt.ylabel('Counts')\n",
    "biden_df['Sentiment'].value_counts().plot(kind = 'bar', color='dodgerblue')\n",
    "plt.show()"
   ]
  },
  {
   "cell_type": "markdown",
   "metadata": {},
   "source": [
    "## Percentage of positive/negative tweets of each candidate"
   ]
  },
  {
   "cell_type": "markdown",
   "metadata": {},
   "source": [
    "### Trump"
   ]
  },
  {
   "cell_type": "code",
   "execution_count": null,
   "metadata": {},
   "outputs": [],
   "source": [
    "positive_trump_tweets = trump_df[trump_df.Sentiment == 'Positive']\n",
    "positive_trump_percent = round(len(positive_trump_tweets) / len(trump_df) * 100, 2)\n",
    "print(positive_trump_percent, '% of trump tweets are positive.')"
   ]
  },
  {
   "cell_type": "code",
   "execution_count": null,
   "metadata": {},
   "outputs": [],
   "source": [
    "# Get % of trump tweets that are neutral\n",
    "neutral_trump_tweets = trump_df[trump_df.Sentiment == 'Neutral']\n",
    "neutral_trump_percent = round(len(neutral_trump_tweets) / len(trump_df) * 100, 2)\n",
    "print(neutral_trump_percent,'% of trump tweets are neutral.')"
   ]
  },
  {
   "cell_type": "code",
   "execution_count": null,
   "metadata": {},
   "outputs": [],
   "source": [
    "negative_trump_tweets = trump_df[trump_df.Sentiment == 'Negative']\n",
    "negative_trump_percent = round(len(negative_trump_tweets) / len(trump_df) * 100, 2)\n",
    "print(negative_trump_percent, '% of trump tweets are negative.')"
   ]
  },
  {
   "cell_type": "code",
   "execution_count": null,
   "metadata": {},
   "outputs": [],
   "source": [
    "# Pie chart, where the slices will be ordered and plotted counter-clockwise:\n",
    "sentiments = ['positive', 'neutral', 'negative']\n",
    "percentages = [positive_trump_percent, neutral_trump_percent, negative_trump_percent]\n",
    "explode = [0.1, 0, 0]\n",
    "\n",
    "fig1, ax1 = plt.subplots()\n",
    "pie_colors = ['mediumspringgreen', 'gainsboro', 'salmon']\n",
    "ax1.pie(percentages, explode=explode, labels=sentiments, autopct='%1.1f%%',\n",
    "        shadow=True, startangle=90, colors=pie_colors)\n",
    "ax1.axis('equal')  # Equal aspect ratio ensures that pie is drawn as a circle.\n",
    "ax1.set_title(\"Trump Sentiments\")\n",
    "plt.show()"
   ]
  },
  {
   "cell_type": "markdown",
   "metadata": {},
   "source": [
    "### Biden"
   ]
  },
  {
   "cell_type": "code",
   "execution_count": null,
   "metadata": {},
   "outputs": [],
   "source": [
    "positive_biden_tweets = biden_df[biden_df.Sentiment == 'Positive']\n",
    "positive_biden_percent = round(len(positive_biden_tweets) / len(biden_df) * 100, 2)\n",
    "print(positive_biden_percent, '% of biden tweets are positive.')"
   ]
  },
  {
   "cell_type": "code",
   "execution_count": null,
   "metadata": {},
   "outputs": [],
   "source": [
    "neutral_biden_tweets = biden_df[biden_df.Sentiment == 'Neutral']\n",
    "neutral_biden_percent = round(len(neutral_biden_tweets) / len(biden_df) * 100, 2)\n",
    "print(neutral_biden_percent, '% of biden tweets are neutral.')"
   ]
  },
  {
   "cell_type": "code",
   "execution_count": null,
   "metadata": {},
   "outputs": [],
   "source": [
    "negative_biden_tweets = biden_df[biden_df.Sentiment == 'Negative']\n",
    "negative_biden_percent = round(len(negative_biden_tweets) / len(biden_df) * 100, 2)\n",
    "print(negative_biden_percent, '% of biden tweets are negative.')"
   ]
  },
  {
   "cell_type": "code",
   "execution_count": null,
   "metadata": {},
   "outputs": [],
   "source": [
    "percentages = [positive_biden_percent, neutral_biden_percent, negative_biden_percent]\n",
    "\n",
    "fig2, ax2 = plt.subplots()\n",
    "ax2.pie(percentages, explode=explode, labels=sentiments, autopct='%1.1f%%',\n",
    "        shadow=True, startangle=90, colors=pie_colors)\n",
    "ax2.axis('equal')  # Equal aspect ratio ensures that pie is drawn as a circle.\n",
    "ax2.set_title(\"Biden Sentiments\")\n",
    "plt.show()"
   ]
  },
  {
   "cell_type": "markdown",
   "metadata": {},
   "source": [
    "Here we observe a result I was not expecting: Biden's tweets are more polarizing than Trump's. 54.06% of Biden tweets are positive and 23.69% of them are negative, while 52.55% of Trump's tweets are positive and 21.33% are negative. "
   ]
  },
  {
   "cell_type": "markdown",
   "metadata": {},
   "source": [
    "## Did their sentiments change as the pandemic evolved?"
   ]
  },
  {
   "cell_type": "markdown",
   "metadata": {},
   "source": [
    "### Trump"
   ]
  },
  {
   "cell_type": "code",
   "execution_count": null,
   "metadata": {},
   "outputs": [],
   "source": [
    "trump_polarity_by_date = trump_df.groupby(by=trump_df['created_at'].dt.date).mean()['Polarity']\n",
    "plt.plot(trump_polarity_by_date.index.values, trump_polarity_by_date, color='orangered')\n",
    "plt.xlabel('Date')\n",
    "plt.ylabel('Polarity')\n",
    "plt.title('Trump Average Polarity since December 31 2019')\n",
    "plt.show()"
   ]
  },
  {
   "cell_type": "markdown",
   "metadata": {},
   "source": [
    "### Biden"
   ]
  },
  {
   "cell_type": "code",
   "execution_count": null,
   "metadata": {},
   "outputs": [],
   "source": [
    "biden_polarity_by_date = biden_df.groupby(by=biden_df['created_at'].dt.date).mean()['Polarity']\n",
    "plt.plot(biden_polarity_by_date.index.values, biden_polarity_by_date, color='dodgerblue')\n",
    "plt.xlabel('Date')\n",
    "plt.ylabel('Polarity')\n",
    "plt.title('Biden Average Polarity since December 31 2019')\n",
    "plt.show()"
   ]
  },
  {
   "cell_type": "markdown",
   "metadata": {},
   "source": [
    "### Both on one plot"
   ]
  },
  {
   "cell_type": "code",
   "execution_count": null,
   "metadata": {},
   "outputs": [],
   "source": [
    "plt.plot(trump_polarity_by_date.index.values, trump_polarity_by_date, color='orangered')\n",
    "plt.plot(biden_polarity_by_date.index.values, biden_polarity_by_date, color='dodgerblue')\n",
    "plt.xlabel('Date')\n",
    "plt.ylabel('Polarity')\n",
    "plt.title('Average Polarity since December 31 2019')\n",
    "plt.legend(['Trump', 'Biden'])\n",
    "plt.show()"
   ]
  },
  {
   "cell_type": "markdown",
   "metadata": {},
   "source": [
    "# 6. Topic Modeling with [LDA](https://en.wikipedia.org/wiki/Latent_Dirichlet_allocation)<a class=\"anchor\" id=\"topic_modeling\">"
   ]
  },
  {
   "cell_type": "markdown",
   "metadata": {},
   "source": [
    "In the literature, it seems that the biterm topic model (BTM) outperforms the traditional LDA algorithm for shorter text documents such as tweets [[source](https://www.cs.toronto.edu/~jstolee/projects/topic.pdf), [source](http://citeseerx.ist.psu.edu/viewdoc/download?doi=10.1.1.402.4032&rep=rep1&type=pdf)].\n",
    "\n",
    "Future work can include comparing the results of these two models and seeing if we observe the suggested improvements. "
   ]
  },
  {
   "cell_type": "markdown",
   "metadata": {},
   "source": [
    "# Peprocess data for topic modelling\n",
    "Remove words with fewer than three characters, perform lemmatization and stemming, include custom stopwords for each candidate to improve topic modelling. "
   ]
  },
  {
   "cell_type": "code",
   "execution_count": null,
   "metadata": {},
   "outputs": [],
   "source": [
    "# Define functions for topic model preprocessing\n",
    "# TODO: look at token and find it's POS tag and then pass that into lemmatize, else by default it treats\n",
    "# Every token as a noun, or as a verb if i leave it like this\n",
    "# https://stackoverflow.com/questions/25534214/nltk-wordnet-lemmatizer-shouldnt-it-lemmatize-all-inflections-of-a-word\n",
    "\n",
    "custom_trump_stopwords = ['realdonaldtrump', 'great', 'pass']\n",
    "def stem_and_lemmatize(text):\n",
    "    return PorterStemmer().stem(WordNetLemmatizer().lemmatize(text))\n",
    "\n",
    "\n",
    "def preprocess_tokens(tokens):\n",
    "    result = []\n",
    "    for token in tokens:\n",
    "        if token not in gensim.parsing.preprocessing.STOPWORDS and len(token) > 3 and token not in custom_trump_stopwords:\n",
    "            result.append(stem_and_lemmatize(token))\n",
    "    return result"
   ]
  },
  {
   "cell_type": "code",
   "execution_count": null,
   "metadata": {},
   "outputs": [],
   "source": [
    "trump_df['processed_tokens'] = trump_df['tokens'].apply(preprocess_tokens)\n",
    "biden_df['processed_tokens'] = biden_df['tokens'].apply(preprocess_tokens)"
   ]
  },
  {
   "cell_type": "markdown",
   "metadata": {},
   "source": [
    "Before preprocessing:"
   ]
  },
  {
   "cell_type": "code",
   "execution_count": null,
   "metadata": {},
   "outputs": [],
   "source": [
    "trump_df['tokens'].head(20)"
   ]
  },
  {
   "cell_type": "markdown",
   "metadata": {},
   "source": [
    "After preprocessing:"
   ]
  },
  {
   "cell_type": "code",
   "execution_count": null,
   "metadata": {},
   "outputs": [],
   "source": [
    "trump_df['processed_tokens'].head(20)"
   ]
  },
  {
   "cell_type": "code",
   "execution_count": null,
   "metadata": {},
   "outputs": [],
   "source": [
    "trump_processed_tokens = trump_df['processed_tokens']\n",
    "biden_processed_tokens = biden_df['processed_tokens']"
   ]
  },
  {
   "cell_type": "markdown",
   "metadata": {},
   "source": [
    "## Create bags of words on the datasets"
   ]
  },
  {
   "cell_type": "code",
   "execution_count": null,
   "metadata": {},
   "outputs": [],
   "source": [
    "# Look at and learn gensim later, for now get the code working quickly and read more later.\n",
    "trump_dictionary = gensim.corpora.Dictionary(trump_processed_tokens)\n",
    "biden_dictionary = gensim.corpora.Dictionary(biden_processed_tokens)"
   ]
  },
  {
   "cell_type": "code",
   "execution_count": null,
   "metadata": {},
   "outputs": [],
   "source": [
    "print(\"Number of words in Trump dictionary:\", len(trump_dictionary))\n",
    "print(\"Number of words in Biden dictionary:\", len(biden_dictionary))"
   ]
  },
  {
   "cell_type": "code",
   "execution_count": null,
   "metadata": {},
   "outputs": [],
   "source": [
    "# Filter out tokens that appear in less than 10 tweets or more than half the tweets\n",
    "trump_dictionary.filter_extremes(no_below=10, no_above=0.5)\n",
    "biden_dictionary.filter_extremes(no_below=10, no_above=0.5)"
   ]
  },
  {
   "cell_type": "code",
   "execution_count": null,
   "metadata": {},
   "outputs": [],
   "source": [
    "print(\"Number of words in Trump dictionary after filtering extremes:\", len(trump_dictionary))\n",
    "print(\"Number of words in Biden dictionary after filtering extremes:\", len(biden_dictionary))"
   ]
  },
  {
   "cell_type": "code",
   "execution_count": null,
   "metadata": {},
   "outputs": [],
   "source": [
    "trump_bow_corpus = [trump_dictionary.doc2bow(doc) for doc in trump_processed_tokens]\n",
    "biden_bow_corpus = [biden_dictionary.doc2bow(doc) for doc in biden_processed_tokens]"
   ]
  },
  {
   "cell_type": "markdown",
   "metadata": {},
   "source": [
    "# Improve bag of words with TF-IDF\n",
    "We can perform topic modelling directly with our bag of words, but we can further improve it first by incorporating [TF-IDF](https://en.wikipedia.org/wiki/Tf%E2%80%93idf). "
   ]
  },
  {
   "cell_type": "code",
   "execution_count": null,
   "metadata": {},
   "outputs": [],
   "source": [
    "trump_tfidf = models.TfidfModel(trump_bow_corpus)\n",
    "biden_tfidf = models.TfidfModel(biden_bow_corpus)\n",
    "\n",
    "trump_tfidf_corpus = trump_tfidf[trump_bow_corpus]\n",
    "biden_tfidf_corpus = biden_tfidf[biden_bow_corpus]"
   ]
  },
  {
   "cell_type": "markdown",
   "metadata": {},
   "source": [
    "## Train the LDA model\n",
    "\n",
    "# TODO: TRY DIFF num passes, look at documentation, do diff num topics, words, then visualize and see if clusters are similar. if similar => use less..."
   ]
  },
  {
   "cell_type": "code",
   "execution_count": null,
   "metadata": {},
   "outputs": [],
   "source": [
    "NUM_WORKERS = 3\n",
    "NUM_PASSES = 15\n",
    "trump_lda_3 = gensim.models.LdaMulticore(trump_tfidf_corpus, num_topics=3, id2word=trump_dictionary, passes=NUM_PASSES, workers=NUM_WORKERS)\n",
    "trump_lda_3.save('trump_lda/trump_lda_3.gensim')"
   ]
  },
  {
   "cell_type": "code",
   "execution_count": null,
   "metadata": {},
   "outputs": [],
   "source": [
    "trump_lda_5 = gensim.models.LdaMulticore(trump_tfidf_corpus, num_topics=5, id2word=trump_dictionary, passes=NUM_PASSES, workers=NUM_WORKERS)\n",
    "trump_lda_5.save('trump_lda/trump_lda_5.gensim')"
   ]
  },
  {
   "cell_type": "code",
   "execution_count": null,
   "metadata": {},
   "outputs": [],
   "source": [
    "trump_lda_7 = gensim.models.LdaMulticore(trump_tfidf_corpus, num_topics=7, id2word=trump_dictionary, passes=NUM_PASSES, workers=NUM_WORKERS)\n",
    "trump_lda_7.save('trump_lda/trump_lda_7.gensim')"
   ]
  },
  {
   "cell_type": "code",
   "execution_count": null,
   "metadata": {},
   "outputs": [],
   "source": [
    "trump_lda_10 = gensim.models.LdaMulticore(trump_tfidf_corpus, num_topics=10, id2word=trump_dictionary, passes=NUM_PASSES, workers=NUM_WORKERS)\n",
    "trump_lda_10.save('trump_lda/trump_lda_10.gensim')"
   ]
  },
  {
   "cell_type": "code",
   "execution_count": null,
   "metadata": {},
   "outputs": [],
   "source": [
    "biden_lda_3 = gensim.models.LdaMulticore(biden_tfidf_corpus, num_topics=3, id2word=biden_dictionary, passes=NUM_PASSES, workers=NUM_WORKERS)\n",
    "biden_lda_3.save('biden_lda/biden_lda_3.gensim')"
   ]
  },
  {
   "cell_type": "code",
   "execution_count": null,
   "metadata": {},
   "outputs": [],
   "source": [
    "biden_lda_5 = gensim.models.LdaMulticore(biden_tfidf_corpus, num_topics=5, id2word=biden_dictionary, passes=NUM_PASSES, workers=NUM_WORKERS)\n",
    "biden_lda_5.save('biden_lda/biden_lda_5.gensim')"
   ]
  },
  {
   "cell_type": "code",
   "execution_count": null,
   "metadata": {},
   "outputs": [],
   "source": [
    "biden_lda_7 = gensim.models.LdaMulticore(biden_tfidf_corpus, num_topics=7, id2word=biden_dictionary, passes=NUM_PASSES, workers=NUM_WORKERS)\n",
    "biden_lda_7.save('biden_lda/biden_lda_7.gensim')"
   ]
  },
  {
   "cell_type": "code",
   "execution_count": null,
   "metadata": {},
   "outputs": [],
   "source": [
    "biden_lda_10 = gensim.models.LdaMulticore(biden_tfidf_corpus, num_topics=10, id2word=biden_dictionary, passes=NUM_PASSES, workers=NUM_WORKERS)\n",
    "biden_lda_10.save('biden_lda/biden_lda_10.gensim')"
   ]
  },
  {
   "cell_type": "markdown",
   "metadata": {},
   "source": [
    "## Look at words in each topic with their relative weights"
   ]
  },
  {
   "cell_type": "markdown",
   "metadata": {},
   "source": [
    "### Trump"
   ]
  },
  {
   "cell_type": "code",
   "execution_count": null,
   "metadata": {},
   "outputs": [],
   "source": [
    "for idx, topic in trump_lda_5.print_topics(num_words=7):\n",
    "    print(\"Topic %d:\" %idx, topic)"
   ]
  },
  {
   "cell_type": "markdown",
   "metadata": {},
   "source": [
    "### Biden"
   ]
  },
  {
   "cell_type": "code",
   "execution_count": null,
   "metadata": {},
   "outputs": [],
   "source": [
    "for idx, topic in biden_lda_5.print_topics(num_words=7):\n",
    "    print(\"Topic %d:\" %idx, topic)"
   ]
  },
  {
   "cell_type": "markdown",
   "metadata": {},
   "source": [
    "## Test models on a new unseen tweet"
   ]
  },
  {
   "cell_type": "markdown",
   "metadata": {},
   "source": [
    "### Trump"
   ]
  },
  {
   "cell_type": "code",
   "execution_count": null,
   "metadata": {},
   "outputs": [],
   "source": [
    "# TODO: Should fix this cuz not properly preprocessed ...; make proper preprocess functions... \n",
    "unseen_trump_tweet = 'Big China Virus breakouts all over the World, including nations which were thought to have done a great job. The Fake News doesn’t report this. USA will be stronger than ever before, and soon!'\n",
    "trump_bow_vector = trump_dictionary.doc2bow(preprocess_tokens(remove_url_punctuation(unseen_trump_tweet)))\n",
    "test = preprocess_tokens(unseen_trump_tweet)\n",
    "print(test)\n",
    "\n",
    "for index, score in sorted(trump_lda_5[trump_bow_vector], key=lambda t: t[1], reverse=True):\n",
    "    print(\"Score: {}\\t Topic: {}\".format(score, trump_lda_5.print_topic(index, topn=7)))"
   ]
  },
  {
   "cell_type": "markdown",
   "metadata": {},
   "source": [
    "## Biden"
   ]
  },
  {
   "cell_type": "markdown",
   "metadata": {},
   "source": [
    "# Visualize topics"
   ]
  },
  {
   "cell_type": "code",
   "execution_count": null,
   "metadata": {},
   "outputs": [],
   "source": [
    "# Uses great a lot, potentialy remove great specifically for topic modelling\n",
    "# label the nuances of using different preprocessing steps for different analyses e.g want to keep\n",
    "# great in for sentiment analysis, but since trump uses it so much, remove it for topic modelling\n",
    "# since it's essentially a stopword that doesn't add to the semantic meaning."
   ]
  },
  {
   "cell_type": "code",
   "execution_count": null,
   "metadata": {},
   "outputs": [],
   "source": [
    "# Cleaning your data: adding stop words that are too frequent in your topics and re-running your model is a common step. \n",
    "# Keeping only nouns and verbs, removing templates from texts, testing different cleaning methods iteratively will improve your topics. \n",
    "# Be prepared to spend some time here.\n",
    "\n",
    "# Another classic preparation step is to use only nouns and verbs using POS tagging (POS: Part-Of-Speech).\n",
    "\n",
    "# # Filtering words that appear in at least 3 (or more) documents is a good way to remove rare words that will not be relevant in topics.\n",
    "\n",
    "# https://towardsdatascience.com/the-complete-guide-for-topics-extraction-in-python-a6aaa6cedbbc \n",
    "# Take the pyldavis and the topic and doc freq. "
   ]
  },
  {
   "cell_type": "code",
   "execution_count": null,
   "metadata": {},
   "outputs": [],
   "source": [
    "# vis = pyLDAvis.gensim.prepare(topic_model=trump_lda_bow_model_5, corpus=trump_bow_corpus, dictionary=trump_dictionary)\n",
    "# pyLDAvis.enable_notebook()\n",
    "# pyLDAvis.display(vis)\n",
    "\n",
    "# Topic 4 is fake news, can manually label that as fake news lol \n",
    "# When we have 5 or 10 topics, we can see certain topics are clustered together, this indicates the similarity between topics. What a a nice way to visualize what we have done thus far!"
   ]
  },
  {
   "cell_type": "code",
   "execution_count": null,
   "metadata": {
    "scrolled": true
   },
   "outputs": [],
   "source": [
    "vis = pyLDAvis.gensim.prepare(topic_model=trump_lda_5, corpus=trump_tfidf_corpus, dictionary=trump_dictionary)\n",
    "pyLDAvis.display(vis)"
   ]
  },
  {
   "cell_type": "code",
   "execution_count": null,
   "metadata": {},
   "outputs": [],
   "source": [
    "# lda3 = gensim.models.ldamodel.LdaModel.load('model3.gensim')\n",
    "# lda_display3 = pyLDAvis.gensim.prepare(lda3, corpus, dictionary, sort_topics=False)\n",
    "# pyLDAvis.display(lda_display3)"
   ]
  },
  {
   "cell_type": "markdown",
   "metadata": {},
   "source": [
    "# 7. Classification<a class=\"anchor\" id=\"classification\">"
   ]
  },
  {
   "cell_type": "code",
   "execution_count": null,
   "metadata": {},
   "outputs": [],
   "source": [
    "def print_classification_results(predictions, y_test, model_name):\n",
    "    print( model_name, \"Accuracy Score:\", accuracy_score(predictions, y_test)*100)\n",
    "    print(model_name, \"Classification Report: \\n\", classification_report(y_test,predictions))\n",
    "    conf_mat = confusion_matrix(y_test, predictions)\n",
    "    fig, ax = plt.subplots(figsize=(10,10))\n",
    "    sns.heatmap(conf_mat, annot=True, fmt='d',\n",
    "            xticklabels=['Biden', 'Trump'], yticklabels=['Biden','Trump'])\n",
    "    plt.title('Confusion Matrix')\n",
    "    plt.xlabel('Predicted Candidate')\n",
    "    plt.ylabel('True Candidate')\n",
    "    plt.show()"
   ]
  },
  {
   "cell_type": "code",
   "execution_count": null,
   "metadata": {},
   "outputs": [],
   "source": [
    "# Assign numeric labels to the classes, biden:0, trump:1\n",
    "biden_df['label'] = 0\n",
    "trump_df['label'] = 1"
   ]
  },
  {
   "cell_type": "code",
   "execution_count": null,
   "metadata": {},
   "outputs": [],
   "source": [
    "# Merge their two dataframes together into one training dataframe. \n",
    "train_df = pd.concat([trump_df, biden_df])"
   ]
  },
  {
   "cell_type": "code",
   "execution_count": null,
   "metadata": {},
   "outputs": [],
   "source": [
    "# Use tokens which are not stemmed and lemmatized. Using stemmed and lemmatized tokens led to decreased prediction accuracy.\n",
    "# Train on the tf_idf vector of our tokens\n",
    "\n",
    "train_df['training_text'] = train_df['tokens'].apply(TreebankWordDetokenizer().detokenize) \n",
    "tfidf_vectorizer = TfidfVectorizer()\n",
    "X = tfidf_vectorizer.fit_transform(train_df['training_text'])\n",
    "y = train_df['label']"
   ]
  },
  {
   "cell_type": "code",
   "execution_count": null,
   "metadata": {},
   "outputs": [],
   "source": [
    "# Try a handful of classifiers that should be good for text classification\n",
    "\n",
    "classifiers = [\n",
    "    LogisticRegression(random_state=0),\n",
    "    MultinomialNB(),\n",
    "    svm.SVC(kernel='linear'),\n",
    "    SGDClassifier(),\n",
    "    AdaBoostClassifier(),\n",
    "    MLPClassifier(hidden_layer_sizes=(10,), random_state=0),\n",
    "    RandomForestClassifier(n_estimators=150, random_state=0)\n",
    "]\n",
    "\n",
    "# Evaluate with 10-fold cross validation\n",
    "CV = 10\n",
    "classifiers_df = pd.DataFrame(index=range(CV * len(classifiers)))\n",
    "rows = []\n",
    "\n",
    "for clf in classifiers:\n",
    "    print('Training', clf)\n",
    "    clf_name = clf.__class__.__name__\n",
    "    accuracies = cross_val_score(clf, X, y, scoring='accuracy', cv=CV, n_jobs=-1)\n",
    "    for idx, accuracy in enumerate(accuracies):\n",
    "        rows.append((clf_name, idx, accuracy))\n",
    "    \n",
    "classifiers_df = pd.DataFrame(rows, columns=['classifier_name', 'fold', 'accuracy'])\n",
    "classifiers_df"
   ]
  },
  {
   "cell_type": "code",
   "execution_count": null,
   "metadata": {},
   "outputs": [],
   "source": [
    "classifiers_df.groupby('classifier_name').mean().drop(columns=['fold']).sort_values(['accuracy'], ascending=False)"
   ]
  },
  {
   "cell_type": "markdown",
   "metadata": {},
   "source": [
    "We have multiple classifiers that score very highly. Let's use the top three together in a voting classifier to see if we can improve the accuracy even more. "
   ]
  },
  {
   "cell_type": "code",
   "execution_count": null,
   "metadata": {},
   "outputs": [],
   "source": [
    "X_train, X_test, y_train, y_test = train_test_split(X,train_df['label'], test_size=0.2)\n",
    "\n",
    "clf1 = MLPClassifier(hidden_layer_sizes=(10,), random_state=0)\n",
    "clf2 = SGDClassifier()\n",
    "clf3 = svm.SVC(kernel='linear')\n",
    "\n",
    "eclf = VotingClassifier(estimators=[('mlp', clf1), ('sgd', clf2), ('svm', clf3)], n_jobs=-1)\n",
    "\n",
    "clf1 = clf1.fit(X_train, y_train)\n",
    "clf2 = clf2.fit(X_train, y_train)\n",
    "clf3 = clf3.fit(X_train, y_train)\n",
    "eclf = eclf.fit(X_train, y_train)"
   ]
  },
  {
   "cell_type": "code",
   "execution_count": null,
   "metadata": {},
   "outputs": [],
   "source": [
    "y_pred = eclf.predict(X_test)\n",
    "print_classification_results(y_pred, y_test, \"Voting Classifier\")"
   ]
  },
  {
   "cell_type": "markdown",
   "metadata": {},
   "source": [
    "Able to slighly improve accuracy from ~93% to ~95% by using the top 3 individual classifiers together in a voting ensemble. "
   ]
  },
  {
   "cell_type": "code",
   "execution_count": null,
   "metadata": {},
   "outputs": [],
   "source": [
    "fpr, tpr, _ = metrics.roc_curve(y_test, y_pred)\n",
    "plt.plot(fpr,tpr,linestyle='--')\n",
    "plt.xlabel('False Positive Rate')\n",
    "plt.ylabel('True Positive Rate')\n",
    "plt.title('ROC curve')\n",
    "plt.show() "
   ]
  }
 ],
 "metadata": {
  "kernelspec": {
   "display_name": "Python 3",
   "language": "python",
   "name": "python3"
  },
  "language_info": {
   "codemirror_mode": {
    "name": "ipython",
    "version": 3
   },
   "file_extension": ".py",
   "mimetype": "text/x-python",
   "name": "python",
   "nbconvert_exporter": "python",
   "pygments_lexer": "ipython3",
   "version": "3.7.7"
  }
 },
 "nbformat": 4,
 "nbformat_minor": 4
}
